{
 "cells": [
  {
   "cell_type": "code",
   "execution_count": 1,
   "metadata": {
    "collapsed": true
   },
   "outputs": [],
   "source": [
    "#setup modules and l\n",
    "import tensorflow as tf\n",
    "import numpy as np\n",
    "from functools import partial\n",
    "\n",
    "from datetime import datetime\n",
    "\n",
    "#now = datetime.utcnow().strftime(\"%Y%m%d%H%M%S\")\n",
    "#root_logdir = \"/Users/Tim/Development/ConvNN/logs/recoded_cnn\"\n",
    "#logdir = \"{}/run-{}/\".format(root_logdir,now)"
   ]
  },
  {
   "cell_type": "code",
   "execution_count": 2,
   "metadata": {
    "collapsed": true
   },
   "outputs": [],
   "source": [
    "def reset_graph(seed=42):\n",
    "    tf.reset_default_graph()\n",
    "    tf.set_random_seed(seed)\n",
    "    np.random.seed(seed)"
   ]
  },
  {
   "cell_type": "code",
   "execution_count": 3,
   "metadata": {
    "collapsed": true
   },
   "outputs": [],
   "source": [
    "#derived in part from ageron and hvass\n",
    "height = 28\n",
    "width = 28\n",
    "channels = 1\n",
    "n_inputs = height * width\n",
    "\n",
    "conv1_maps = 16\n",
    "conv1_ksize = 5\n",
    "conv1_stride = 1\n",
    "conv1_pad = \"SAME\"\n",
    "\n",
    "conv2_maps = 36\n",
    "conv2_ksize = 3\n",
    "conv2_stride = 1\n",
    "conv2_pad = \"SAME\"\n",
    "\n",
    "n_fc1 = 128\n",
    "fc1_dropout_rate = 0.5\n",
    "\n",
    "n_outputs = 10\n",
    "\n",
    "reset_graph()\n",
    "\n",
    "with tf.name_scope(\"inputs\"):\n",
    "    X = tf.placeholder(tf.float32, shape=[None, n_inputs], name=\"X\")\n",
    "    X_reshaped = tf.reshape(X, shape=[-1, height, width, channels])\n",
    "    y = tf.placeholder(tf.int32, shape=[None], name=\"y\")\n",
    "    training = tf.placeholder_with_default(False, shape=[], name=\"training\")\n",
    "    \n",
    "conv1 = tf.layers.conv2d(X_reshaped, filters=conv1_maps, kernel_size=conv1_ksize,\n",
    "                        strides=conv1_stride, padding=conv1_pad, activation=tf.nn.relu, name=\"conv1\")\n",
    "conv1_maxpool = tf.nn.max_pool(value=conv1, \n",
    "                               ksize=[1,2,2,1],\n",
    "                               strides=[1,2,2,1],\n",
    "                               padding=\"SAME\", name=\"conv1_maxpool\")\n",
    "conv2 = tf.layers.conv2d(conv1_maxpool, filters=conv2_maps, kernel_size=conv2_ksize,\n",
    "                        strides=conv2_stride, padding=conv2_pad, activation=tf.nn.relu, name=\"conv2\")\n",
    "conv2_maxpool = tf.nn.max_pool(value=conv2,\n",
    "                               ksize=[1,2,2,1],\n",
    "                               strides=[1,2,2,1],\n",
    "                               padding=\"SAME\", name=\"conv1_maxpool\")\n",
    "flat_layer = tf.reshape(conv2_maxpool, shape=[-1, conv2_maps * 7 * 7], name=\"flat_layer\")\n",
    "\n",
    "with tf.name_scope(\"fc1\"):\n",
    "    fc1 = tf.layers.dense(flat_layer, n_fc1, activation=tf.nn.relu, name=\"fc1\")\n",
    "    fc1_drop = tf.layers.dropout(fc1, fc1_dropout_rate, training=training)\n",
    "    \n",
    "with tf.name_scope(\"output\"):\n",
    "    logits = tf.layers.dense(fc1, n_outputs, name=\"output\")\n",
    "    Y_prob = tf.nn.softmax(logits, name=\"Y_prob\")\n",
    "    \n",
    "    \n",
    "with tf.name_scope(\"train\"):\n",
    "    xentropy = tf.nn.sparse_softmax_cross_entropy_with_logits(logits=logits, labels=y)\n",
    "    loss = tf.reduce_mean(xentropy)\n",
    "    optimizer = tf.train.AdamOptimizer()\n",
    "    training_op = optimizer.minimize(loss)\n",
    "    \n",
    "with tf.name_scope(\"eval\"):\n",
    "    correct = tf.nn.in_top_k(logits, y, 1)\n",
    "    accuracy = tf.reduce_mean(tf.cast(correct, tf.float32))\n",
    "    \n",
    "with tf.name_scope(\"init_and_save\"):\n",
    "    init = tf.global_variables_initializer()\n",
    "    saver = tf.train.Saver()\n",
    "\n",
    "\n"
   ]
  },
  {
   "cell_type": "code",
   "execution_count": 4,
   "metadata": {},
   "outputs": [
    {
     "name": "stdout",
     "output_type": "stream",
     "text": [
      "Extracting /tmp/data/train-images-idx3-ubyte.gz\n",
      "Extracting /tmp/data/train-labels-idx1-ubyte.gz\n",
      "Extracting /tmp/data/t10k-images-idx3-ubyte.gz\n",
      "Extracting /tmp/data/t10k-labels-idx1-ubyte.gz\n"
     ]
    }
   ],
   "source": [
    "from tensorflow.examples.tutorials.mnist import input_data\n",
    "mnist = input_data.read_data_sets(\"/tmp/data\")"
   ]
  },
  {
   "cell_type": "code",
   "execution_count": 5,
   "metadata": {
    "collapsed": true
   },
   "outputs": [],
   "source": [
    "def get_model_params():\n",
    "    gvars = tf.get_collection(tf.GraphKeys.GLOBAL_VARIABLES)\n",
    "    return {gvar.op.name: value for gvar, value in zip(gvars, tf.get_default_session().run(gvars))}\n",
    "\n",
    "def restore_model_params(model_params):\n",
    "    gvar_names = list(model_params.keys())\n",
    "    assign_ops = {gvar_name: tf.get_default_graph().get_operation_by_name(gvar_name + \"/Assign\")\n",
    "                  for gvar_name in gvar_names}\n",
    "    init_values = {gvar_name: assign_op.inputs[1] for gvar_name, assign_op in assign_ops.items()}\n",
    "    feed_dict = {init_values[gvar_name]: model_params[gvar_name] for gvar_name in gvar_names}\n",
    "    tf.get_default_session().run(assign_ops, feed_dict=feed_dict)"
   ]
  },
  {
   "cell_type": "code",
   "execution_count": 7,
   "metadata": {},
   "outputs": [
    {
     "name": "stdout",
     "output_type": "stream",
     "text": [
      "Epoch 0, train accuracy: 97.2656%, valid. accuracy: 97.3200%, valid. best loss: 2.238740\n",
      "Epoch 1, train accuracy: 98.4375%, valid. accuracy: 98.2400%, valid. best loss: 0.090569\n",
      "Epoch 2, train accuracy: 99.2188%, valid. accuracy: 98.5800%, valid. best loss: 0.063378\n",
      "Epoch 3, train accuracy: 99.2188%, valid. accuracy: 98.6800%, valid. best loss: 0.049762\n",
      "Epoch 4, train accuracy: 99.6094%, valid. accuracy: 98.7200%, valid. best loss: 0.049443\n",
      "Epoch 5, train accuracy: 99.6094%, valid. accuracy: 98.7200%, valid. best loss: 0.044238\n",
      "Epoch 6, train accuracy: 99.6094%, valid. accuracy: 98.5600%, valid. best loss: 0.039433\n",
      "Epoch 7, train accuracy: 98.8281%, valid. accuracy: 98.8800%, valid. best loss: 0.039433\n",
      "Epoch 8, train accuracy: 100.0000%, valid. accuracy: 98.7800%, valid. best loss: 0.039433\n",
      "Epoch 9, train accuracy: 100.0000%, valid. accuracy: 98.8600%, valid. best loss: 0.036642\n",
      "Epoch 10, train accuracy: 99.6094%, valid. accuracy: 99.1400%, valid. best loss: 0.036642\n",
      "Epoch 11, train accuracy: 99.2188%, valid. accuracy: 99.2200%, valid. best loss: 0.033595\n",
      "Epoch 12, train accuracy: 99.2188%, valid. accuracy: 99.0000%, valid. best loss: 0.033398\n",
      "Epoch 13, train accuracy: 100.0000%, valid. accuracy: 99.1800%, valid. best loss: 0.033398\n",
      "Epoch 14, train accuracy: 99.2188%, valid. accuracy: 98.9200%, valid. best loss: 0.031915\n",
      "Epoch 15, train accuracy: 99.6094%, valid. accuracy: 99.1800%, valid. best loss: 0.031915\n",
      "Epoch 16, train accuracy: 100.0000%, valid. accuracy: 99.1800%, valid. best loss: 0.031915\n",
      "Epoch 17, train accuracy: 100.0000%, valid. accuracy: 99.1200%, valid. best loss: 0.031915\n",
      "Epoch 18, train accuracy: 100.0000%, valid. accuracy: 99.1800%, valid. best loss: 0.031915\n",
      "Epoch 19, train accuracy: 100.0000%, valid. accuracy: 99.0400%, valid. best loss: 0.031915\n",
      "Epoch 20, train accuracy: 100.0000%, valid. accuracy: 99.0600%, valid. best loss: 0.031915\n",
      "Epoch 21, train accuracy: 100.0000%, valid. accuracy: 99.0000%, valid. best loss: 0.031915\n",
      "Epoch 22, train accuracy: 100.0000%, valid. accuracy: 99.2000%, valid. best loss: 0.031915\n",
      "Epoch 23, train accuracy: 100.0000%, valid. accuracy: 99.0200%, valid. best loss: 0.031915\n",
      "Epoch 24, train accuracy: 100.0000%, valid. accuracy: 99.2600%, valid. best loss: 0.031915\n",
      "Epoch 25, train accuracy: 100.0000%, valid. accuracy: 99.1600%, valid. best loss: 0.031915\n",
      "Epoch 26, train accuracy: 100.0000%, valid. accuracy: 98.8800%, valid. best loss: 0.031915\n",
      "Epoch 27, train accuracy: 100.0000%, valid. accuracy: 99.2200%, valid. best loss: 0.031915\n",
      "Epoch 28, train accuracy: 100.0000%, valid. accuracy: 99.2800%, valid. best loss: 0.031915\n",
      "Epoch 29, train accuracy: 100.0000%, valid. accuracy: 99.0600%, valid. best loss: 0.031915\n",
      "Epoch 30, train accuracy: 100.0000%, valid. accuracy: 99.1400%, valid. best loss: 0.031915\n",
      "Epoch 31, train accuracy: 100.0000%, valid. accuracy: 98.8000%, valid. best loss: 0.031915\n",
      "Epoch 32, train accuracy: 100.0000%, valid. accuracy: 99.1000%, valid. best loss: 0.031915\n",
      "Epoch 33, train accuracy: 100.0000%, valid. accuracy: 99.1600%, valid. best loss: 0.031915\n",
      "Epoch 34, train accuracy: 100.0000%, valid. accuracy: 99.1200%, valid. best loss: 0.031915\n",
      "Epoch 35, train accuracy: 100.0000%, valid. accuracy: 99.1800%, valid. best loss: 0.031915\n",
      "Early stopping!\n",
      "Final accuracy on test set: 0.99\n"
     ]
    }
   ],
   "source": [
    "n_epochs = 1000\n",
    "batch_size = 256\n",
    "\n",
    "best_loss_val = np.infty\n",
    "check_interval = 500\n",
    "checks_since_last_progress = 0\n",
    "max_checks_without_progress = 20\n",
    "best_model_params = None \n",
    "\n",
    "with tf.Session() as sess:\n",
    "    init.run()\n",
    "    for epoch in range(n_epochs):\n",
    "        for iteration in range(mnist.train.num_examples // batch_size):\n",
    "            X_batch, y_batch = mnist.train.next_batch(batch_size)\n",
    "            sess.run(training_op, feed_dict={X: X_batch, y: y_batch, training: True})\n",
    "            if iteration % check_interval == 0:\n",
    "                loss_val = loss.eval(feed_dict={X: mnist.validation.images,\n",
    "                                                y: mnist.validation.labels})\n",
    "                if loss_val < best_loss_val:\n",
    "                    best_loss_val = loss_val\n",
    "                    checks_since_last_progress = 0\n",
    "                    best_model_params = get_model_params()\n",
    "                else:\n",
    "                    checks_since_last_progress += 1\n",
    "        acc_train = accuracy.eval(feed_dict={X: X_batch, y: y_batch})\n",
    "        acc_val = accuracy.eval(feed_dict={X: mnist.validation.images,\n",
    "                                           y: mnist.validation.labels})\n",
    "        print(\"Epoch {}, train accuracy: {:.4f}%, valid. accuracy: {:.4f}%, valid. best loss: {:.6f}\".format(\n",
    "                  epoch, acc_train * 100, acc_val * 100, best_loss_val))\n",
    "        if checks_since_last_progress > max_checks_without_progress:\n",
    "            print(\"Early stopping!\")\n",
    "            break\n",
    "\n",
    "    if best_model_params:\n",
    "        restore_model_params(best_model_params)\n",
    "    acc_test = accuracy.eval(feed_dict={X: mnist.test.images,\n",
    "                                        y: mnist.test.labels})\n",
    "    print(\"Final accuracy on test set:\", acc_test)\n",
    "    save_path = saver.save(sess, \"/home/ec2-user/notebooks/Development/ConvNN/AWS_Models/recoded_cnn_estop.ckpt\")"
   ]
  },
  {
   "cell_type": "code",
   "execution_count": null,
   "metadata": {
    "collapsed": true
   },
   "outputs": [],
   "source": []
  }
 ],
 "metadata": {
  "kernelspec": {
   "display_name": "Python 3",
   "language": "python",
   "name": "python3"
  },
  "language_info": {
   "codemirror_mode": {
    "name": "ipython",
    "version": 3
   },
   "file_extension": ".py",
   "mimetype": "text/x-python",
   "name": "python",
   "nbconvert_exporter": "python",
   "pygments_lexer": "ipython3",
   "version": "3.4.3"
  }
 },
 "nbformat": 4,
 "nbformat_minor": 2
}
