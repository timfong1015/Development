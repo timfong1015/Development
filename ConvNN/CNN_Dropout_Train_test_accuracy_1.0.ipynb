{
 "cells": [
  {
   "cell_type": "markdown",
   "metadata": {},
   "source": [
    "This code derived from TensorFlow Tutorials/Hvass\n",
    "<br>Modified by TF to include Tensorboard logging\n",
    "<br>Modified by TF to remove reLU\n",
    "<br>Modified by TF to include dropout"
   ]
  },
  {
   "cell_type": "code",
   "execution_count": 1,
   "metadata": {
    "collapsed": true
   },
   "outputs": [],
   "source": [
    "%matplotlib inline\n",
    "import matplotlib.pyplot as plt\n",
    "import tensorflow as tf\n",
    "import numpy as np\n",
    "from sklearn.metrics import confusion_matrix\n",
    "import time\n",
    "from datetime import timedelta\n",
    "import math"
   ]
  },
  {
   "cell_type": "code",
   "execution_count": 2,
   "metadata": {},
   "outputs": [
    {
     "data": {
      "text/plain": [
       "'1.1.0'"
      ]
     },
     "execution_count": 2,
     "metadata": {},
     "output_type": "execute_result"
    }
   ],
   "source": [
    "tf.__version__\n"
   ]
  },
  {
   "cell_type": "markdown",
   "metadata": {},
   "source": [
    "<b> Configuration of Neural Network </b>"
   ]
  },
  {
   "cell_type": "code",
   "execution_count": 3,
   "metadata": {
    "collapsed": true
   },
   "outputs": [],
   "source": [
    "#Convolution Layer 1\n",
    "filter_size1 = 5 #Convolution filters are 5x5 pixels\n",
    "num_filters1 = 16 #There are 16 of these filters\n",
    "\n",
    "#Convolution Layer 2\n",
    "filter_size2 = 5 #As above, 5x5 pixels\n",
    "num_filters2 = 36 #there are 36 filters\n",
    "\n",
    "#Fully-connected layer\n",
    "fc_size = 128 #number of neurons in the fully connected layer\n",
    "\n",
    "#tensorboard log directory\n",
    "#logs_path = \"/Users/Tim/Documents/BacktoSchool/Zicklin/Handwriting/logs/KeepProb1.0\"\n",
    "\n",
    "\n",
    "\n"
   ]
  },
  {
   "cell_type": "code",
   "execution_count": 4,
   "metadata": {},
   "outputs": [
    {
     "name": "stdout",
     "output_type": "stream",
     "text": [
      "Extracting data/MNIST/train-images-idx3-ubyte.gz\n",
      "Extracting data/MNIST/train-labels-idx1-ubyte.gz\n",
      "Extracting data/MNIST/t10k-images-idx3-ubyte.gz\n",
      "Extracting data/MNIST/t10k-labels-idx1-ubyte.gz\n"
     ]
    }
   ],
   "source": [
    "from tensorflow.examples.tutorials.mnist import input_data\n",
    "data = input_data.read_data_sets('data/MNIST', one_hot=True)\n"
   ]
  },
  {
   "cell_type": "code",
   "execution_count": 5,
   "metadata": {},
   "outputs": [
    {
     "name": "stdout",
     "output_type": "stream",
     "text": [
      "Size of:\n",
      "--Training set:\t\t55000\n",
      "--Test-set:\t\t10000\n",
      "--Validation-set:\t5000\n"
     ]
    }
   ],
   "source": [
    "print(\"Size of:\")\n",
    "print(\"--Training set:\\t\\t{}\".format(len(data.train.labels)))\n",
    "print(\"--Test-set:\\t\\t{}\".format(len(data.test.labels)))\n",
    "print(\"--Validation-set:\\t{}\".format(len(data.validation.labels)))\n"
   ]
  },
  {
   "cell_type": "code",
   "execution_count": 6,
   "metadata": {
    "collapsed": true
   },
   "outputs": [],
   "source": [
    "data.test.cls = np.argmax(data.test.labels, axis = 1)\n"
   ]
  },
  {
   "cell_type": "code",
   "execution_count": 7,
   "metadata": {
    "collapsed": true
   },
   "outputs": [],
   "source": [
    "#MNIST images are 28x28\n",
    "img_size = 28\n",
    "\n",
    "#Images are stored in flat arrays of this length\n",
    "img_size_flat = img_size*img_size\n",
    "\n",
    "#Tuple with height and width of images used to reshape arrays\n",
    "img_shape = (img_size, img_size)\n",
    "\n",
    "#Number of color channels for the images\n",
    "num_channels = 1\n",
    "\n",
    "#Number of classes, one for each of 10 digits\n",
    "num_classes = 10\n",
    "\n",
    "#tensorboard log directory\n",
    "#logs_path = \"/Users/Tim/Documents/BacktoSchool/Zicklin/Handwriting/logs\"\n"
   ]
  },
  {
   "cell_type": "code",
   "execution_count": 8,
   "metadata": {
    "collapsed": true
   },
   "outputs": [],
   "source": [
    "def plot_images(images, cls_true, cls_pred=None):\n",
    "    assert len(images) == len(cls_true) == 9\n",
    "    \n",
    "    #Create figure with 3x3 subplots\n",
    "    fig, axes = plt.subplots(3,3)\n",
    "    fig.subplots_adjust(hspace=0.3, wspace=0.3)\n",
    "    \n",
    "    for i, ax in enumerate(axes.flat):\n",
    "        #plot image. COME BACK TO THIS CODE TIM\n",
    "        ax.imshow(images[i].reshape(img_shape), cmap='binary')\n",
    "        \n",
    "        #show true and predicted classes \n",
    "        if cls_pred is None:\n",
    "            xlabel = \"True: {0}\".format(cls_true[i])\n",
    "        else:\n",
    "            xlabel = \"True: {0}, Pred: {1}\".format(cls_true[i], cls_pred[i])\n",
    "        \n",
    "        #show the classes as the label on the x-axis\n",
    "        ax.set_xlabel(xlabel)\n",
    "        \n",
    "        #Remove ticks from the plot\n",
    "        ax.set_xticks([])\n",
    "        ax.set_yticks([])\n",
    "        \n",
    "    #ensure the plot is shown correctly with multiple plots in single cell\n",
    "    plt.show()\n",
    "    "
   ]
  },
  {
   "cell_type": "code",
   "execution_count": 9,
   "metadata": {
    "collapsed": true
   },
   "outputs": [],
   "source": [
    "#Get images\n",
    "images = data.test.images[0:9]\n",
    "\n",
    "#Get the true classes\n",
    "cls_true = data.test.cls[0:9]\n"
   ]
  },
  {
   "cell_type": "markdown",
   "metadata": {},
   "source": [
    "<b>Function: Creating variables and initializing with random values</b>"
   ]
  },
  {
   "cell_type": "code",
   "execution_count": 10,
   "metadata": {
    "collapsed": true
   },
   "outputs": [],
   "source": [
    "def new_weights(shape):\n",
    "    return tf.Variable(tf.truncated_normal(shape, stddev=0.05))\n",
    "\n",
    "def new_biases(length):\n",
    "    return tf.Variable(tf.constant(0.05, shape=[length]))"
   ]
  },
  {
   "cell_type": "markdown",
   "metadata": {},
   "source": [
    "### Create Variable Summaries for Tensorboard"
   ]
  },
  {
   "cell_type": "code",
   "execution_count": 11,
   "metadata": {
    "collapsed": true
   },
   "outputs": [],
   "source": [
    "def variable_summaries(var):\n",
    "        \n",
    "        #attach a  lot of summaries to a tensor for visualization. From\n",
    "        #https://www.tensorflow.org/get_started/summaries_and_tensorboard\n",
    "        with tf.name_scope('summaries'):\n",
    "            mean = tf.reduce_mean(var)\n",
    "            tf.summary.scalar('mean', mean)\n",
    "            \n",
    "            with tf.name_scope('stddev'):\n",
    "                stddev = tf.sqrt(tf.reduce_mean(tf.square(var - mean)))\n",
    "            \n",
    "            tf.summary.scalar('stddev', stddev)\n",
    "            tf.summary.scalar('max', tf.reduce_max(var))    \n",
    "            tf.summary.scalar('min', tf.reduce_min(var))\n",
    "            #tf.summary.historgram('histogram', var)"
   ]
  },
  {
   "cell_type": "markdown",
   "metadata": {},
   "source": [
    "### Function: to create first convolution layer\n"
   ]
  },
  {
   "cell_type": "code",
   "execution_count": 12,
   "metadata": {
    "collapsed": true
   },
   "outputs": [],
   "source": [
    "def new_conv_layer(input, #previous layer \n",
    "                   num_input_channels,#Num. channels in prev. layer\n",
    "                   filter_size,#width and size of each filter\n",
    "                   num_filters, \n",
    "                   use_pooling=True,): #use 2x2 max pooling\n",
    "    # adding a name scope to ensure logical grouping of layers in graph\n",
    "    with tf.name_scope('Convolutional_Layer'):\n",
    "        \n",
    "        #shape of filter-weights for convolution. Format determined by TensorFlow API\n",
    "        shape = [filter_size,filter_size,num_input_channels,num_filters]\n",
    "    \n",
    "        #Holds the state of the weights for the layer\n",
    "        with tf.name_scope('weights'):\n",
    "            #new weights aka filters with the given shape\n",
    "            weights = new_weights(shape=shape)\n",
    "            variable_summaries(weights)\n",
    "        \n",
    "        with tf.name_scope('biases'):\n",
    "            #create new biases one for each filter\n",
    "            biases = new_biases(length=num_filters)\n",
    "            variable_summaries(biases)\n",
    "    \n",
    "        #TensorFlow operation for convolution. Strides are set to 1 in all dimensions. CHECK STRIDE NOTATION\n",
    "        #The first and last stride must be set to 1, \n",
    "        #because the first is for the image number\n",
    "        #second is for the input channel\n",
    "        #e.g. [1,2,2,1] would mean that the filter moves 2 pixels across x and y axes of image\n",
    "        #Padding is set to 'SAME' which means input image is padded with zeros\n",
    "        #making the size of the output the same\n",
    "        layer = tf.nn.conv2d(input=input, \n",
    "                         filter=weights, \n",
    "                        strides=[1,1,1,1],\n",
    "                        padding='SAME')\n",
    "\n",
    "        #biases\n",
    "        layer += biases\n",
    "        \n",
    "        #max pool\n",
    "        layer = tf.nn.max_pool(value=layer,\n",
    "                            ksize=[1,2,2,1],\n",
    "                            strides=[1,2,2,1],\n",
    "                            padding='SAME')\n",
    "    \n",
    "        #Rectified Linear Unit\n",
    "        #Calculates max(x, 0) for each input pixel, x. Adds non-linearity\n",
    "        #Normally ReLU executed before pooling, but since relu(max_pool(x)) == max_pool(relu(x)) \n",
    "        # we save 75% of ReLU operations by max-pooling first.\n",
    "        layer = tf.nn.relu(layer)\n",
    "        \n",
    "        #dropout\n",
    "        #layer = tf.nn.dropout(layer, 0.3)\n",
    "    \n",
    "        #We use return becauase we will plot the weights later. \n",
    "        return layer, weights\n",
    "    \n",
    "    \n",
    "    \n",
    "    \n",
    "    "
   ]
  },
  {
   "cell_type": "markdown",
   "metadata": {},
   "source": [
    "### Function to Flatten a Layer"
   ]
  },
  {
   "cell_type": "code",
   "execution_count": 13,
   "metadata": {
    "collapsed": true
   },
   "outputs": [],
   "source": [
    "def flatten_layer(layer):\n",
    "    with tf.name_scope('Flatten_Layer'):\n",
    "        #Shape of input layer, assumed to be \n",
    "        #layer_shape == [num_images, img_height, img_width, num_channels]\n",
    "        layer_shape=layer.get_shape()\n",
    "    \n",
    "        #The number of features is: img_height*img_width*num_channels]\n",
    "        num_features = layer_shape[1:4].num_elements()\n",
    "    \n",
    "        #Reshape layer to just [num_images, num_features]\n",
    "        layer_flat = tf.reshape(layer, [-1, num_features])\n",
    "    \n",
    "        return layer_flat, num_features\n",
    "    \n",
    "    \n",
    "    \n",
    "    \n",
    "    "
   ]
  },
  {
   "cell_type": "markdown",
   "metadata": {},
   "source": [
    "<b>Function to create Fully-Connected Layer</b>"
   ]
  },
  {
   "cell_type": "code",
   "execution_count": 14,
   "metadata": {
    "collapsed": true
   },
   "outputs": [],
   "source": [
    "def new_fc_layer(input, #previous layer\n",
    "                num_inputs, #from previous layer\n",
    "                num_outputs,\n",
    "                use_relu = True, #Rectified linear unit\n",
    "                use_dropout = True): \n",
    "    with tf.name_scope('Fully_Connected_Layer'):\n",
    "        #create new weights and biases, call previous function \n",
    "        weights = new_weights(shape=[num_inputs,num_outputs])\n",
    "        biases = new_biases(length=num_outputs)\n",
    "    \n",
    "        #Calculate the layer as matrix multiplcation of input and weights \n",
    "        #plus the bias values\n",
    "        layer=tf.matmul(input,weights) + biases\n",
    "    \n",
    "        #Use ReLU?\n",
    "        if use_relu:\n",
    "            layer = tf.nn.relu(layer)\n",
    "      \n",
    "        if use_dropout:\n",
    "            #just added placeholder variable 16May17\n",
    "            keep_prob = tf.placeholder(tf.float32)\n",
    "            layer = tf.nn.dropout(layer, keep_prob=1.0)\n",
    "        \n",
    "        return layer\n",
    "    "
   ]
  },
  {
   "cell_type": "markdown",
   "metadata": {},
   "source": [
    "<b>Placeholder Variables</b>"
   ]
  },
  {
   "cell_type": "code",
   "execution_count": 15,
   "metadata": {
    "collapsed": true
   },
   "outputs": [],
   "source": [
    "#tensor for images, multidimensional matrix, None means the tensor holds arbitrary number of images\n",
    "#with each vector of length img_size_flat representing one image.\n",
    "#x = tf.placeholder(tf.float32,shape=[None,img_size_flat],name='x')\n",
    "\n",
    "with tf.name_scope('Input_Images'):\n",
    "    x = tf.placeholder(tf.float32,shape=[None,img_size_flat],name='x')\n",
    "    \n",
    "    x_image = tf.reshape(x,[-1,img_size,img_size,num_channels])\n",
    "\n",
    "    y_true = tf.placeholder(tf.float32,shape=[None,10],name='y_true')\n",
    "\n",
    "    y_true_cls = tf.argmax(y_true, dimension=1)\n",
    "    \n"
   ]
  },
  {
   "cell_type": "markdown",
   "metadata": {},
   "source": [
    "<b>Convolutional Layer 1</b>"
   ]
  },
  {
   "cell_type": "code",
   "execution_count": 16,
   "metadata": {
    "collapsed": true
   },
   "outputs": [],
   "source": [
    "layer_conv1, weights_conv1 = \\\n",
    "    new_conv_layer(input=x_image,\n",
    "                   num_input_channels=num_channels,\n",
    "                   filter_size=filter_size1,\n",
    "                   num_filters=num_filters1,\n",
    "                   use_pooling=True)"
   ]
  },
  {
   "cell_type": "code",
   "execution_count": 17,
   "metadata": {},
   "outputs": [
    {
     "data": {
      "text/plain": [
       "<tf.Tensor 'Convolutional_Layer/Relu:0' shape=(?, 14, 14, 16) dtype=float32>"
      ]
     },
     "execution_count": 17,
     "metadata": {},
     "output_type": "execute_result"
    }
   ],
   "source": [
    "layer_conv1"
   ]
  },
  {
   "cell_type": "markdown",
   "metadata": {},
   "source": [
    "<b>Convolutional Layer 2</b>"
   ]
  },
  {
   "cell_type": "code",
   "execution_count": 18,
   "metadata": {
    "collapsed": true
   },
   "outputs": [],
   "source": [
    "layer_conv2, weights_conv2 =\\\n",
    "    new_conv_layer(input=layer_conv1,\n",
    "                  num_input_channels=num_filters1,\n",
    "                  filter_size=filter_size2,\n",
    "                  num_filters=num_filters2,\n",
    "                  use_pooling=True)\n",
    "    "
   ]
  },
  {
   "cell_type": "code",
   "execution_count": 19,
   "metadata": {},
   "outputs": [
    {
     "data": {
      "text/plain": [
       "<tf.Tensor 'Convolutional_Layer_1/Relu:0' shape=(?, 7, 7, 36) dtype=float32>"
      ]
     },
     "execution_count": 19,
     "metadata": {},
     "output_type": "execute_result"
    }
   ],
   "source": [
    "layer_conv2"
   ]
  },
  {
   "cell_type": "code",
   "execution_count": 20,
   "metadata": {},
   "outputs": [
    {
     "data": {
      "text/plain": [
       "<tf.Variable 'Convolutional_Layer_1/weights/Variable:0' shape=(5, 5, 16, 36) dtype=float32_ref>"
      ]
     },
     "execution_count": 20,
     "metadata": {},
     "output_type": "execute_result"
    }
   ],
   "source": [
    "\n",
    "weights_conv2"
   ]
  },
  {
   "cell_type": "markdown",
   "metadata": {},
   "source": [
    "<b>Flatten Layer</b>"
   ]
  },
  {
   "cell_type": "code",
   "execution_count": 21,
   "metadata": {
    "collapsed": true
   },
   "outputs": [],
   "source": [
    "layer_flat, num_features = flatten_layer(layer_conv2)\n"
   ]
  },
  {
   "cell_type": "code",
   "execution_count": 22,
   "metadata": {},
   "outputs": [
    {
     "data": {
      "text/plain": [
       "<tf.Tensor 'Flatten_Layer/Reshape:0' shape=(?, 1764) dtype=float32>"
      ]
     },
     "execution_count": 22,
     "metadata": {},
     "output_type": "execute_result"
    }
   ],
   "source": [
    "layer_flat\n"
   ]
  },
  {
   "cell_type": "code",
   "execution_count": 23,
   "metadata": {},
   "outputs": [
    {
     "data": {
      "text/plain": [
       "1764"
      ]
     },
     "execution_count": 23,
     "metadata": {},
     "output_type": "execute_result"
    }
   ],
   "source": [
    "num_features"
   ]
  },
  {
   "cell_type": "markdown",
   "metadata": {},
   "source": [
    "<b>Fully Connected Layer 1</b>"
   ]
  },
  {
   "cell_type": "code",
   "execution_count": 24,
   "metadata": {
    "collapsed": true
   },
   "outputs": [],
   "source": [
    "layer_fc1 = new_fc_layer(input=layer_flat,\n",
    "                        num_inputs=num_features,\n",
    "                        num_outputs=fc_size,\n",
    "                        use_relu=True,\n",
    "                        use_dropout=True)\n"
   ]
  },
  {
   "cell_type": "markdown",
   "metadata": {
    "collapsed": true
   },
   "source": [
    "<b>Fully Connected Layer 2</b>"
   ]
  },
  {
   "cell_type": "code",
   "execution_count": 25,
   "metadata": {
    "collapsed": true
   },
   "outputs": [],
   "source": [
    "layer_fc2 = new_fc_layer(input=layer_fc1, \n",
    "                           num_inputs=fc_size,\n",
    "                        num_outputs=num_classes,\n",
    "                        use_relu=False,\n",
    "                        use_dropout=False)"
   ]
  },
  {
   "cell_type": "code",
   "execution_count": 26,
   "metadata": {},
   "outputs": [
    {
     "data": {
      "text/plain": [
       "<tf.Tensor 'Fully_Connected_Layer_1/add:0' shape=(?, 10) dtype=float32>"
      ]
     },
     "execution_count": 26,
     "metadata": {},
     "output_type": "execute_result"
    }
   ],
   "source": [
    "layer_fc2"
   ]
  },
  {
   "cell_type": "markdown",
   "metadata": {},
   "source": [
    "<b>Predicted Class</b>"
   ]
  },
  {
   "cell_type": "code",
   "execution_count": 27,
   "metadata": {
    "collapsed": true
   },
   "outputs": [],
   "source": [
    "with tf.name_scope(\"softmax\"):\n",
    "    #note that here we have only used one fc layer as a predictor\n",
    "    y_pred = tf.nn.softmax(layer_fc2)"
   ]
  },
  {
   "cell_type": "code",
   "execution_count": 28,
   "metadata": {
    "collapsed": true
   },
   "outputs": [],
   "source": [
    "with tf.name_scope(\"y_pred\"):\n",
    "    y_pred_cls = tf.argmax(y_pred, dimension=1)"
   ]
  },
  {
   "cell_type": "markdown",
   "metadata": {},
   "source": [
    "<b>Cross-function to be optimized</b>"
   ]
  },
  {
   "cell_type": "code",
   "execution_count": 29,
   "metadata": {
    "collapsed": true
   },
   "outputs": [],
   "source": [
    "with tf.name_scope('cross_entropy'):\n",
    "    cross_entropy = tf.nn.softmax_cross_entropy_with_logits(logits=layer_fc2, labels=y_true)"
   ]
  },
  {
   "cell_type": "code",
   "execution_count": 30,
   "metadata": {
    "collapsed": true
   },
   "outputs": [],
   "source": [
    "with tf.name_scope('cost'):\n",
    "    cost = tf.reduce_mean(cross_entropy)"
   ]
  },
  {
   "cell_type": "markdown",
   "metadata": {},
   "source": [
    "<b>Optimization Method</b>"
   ]
  },
  {
   "cell_type": "code",
   "execution_count": 31,
   "metadata": {
    "collapsed": true
   },
   "outputs": [],
   "source": [
    "with tf.name_scope('train'):\n",
    "    optimizer = tf.train.AdamOptimizer().minimize(cost)"
   ]
  },
  {
   "cell_type": "markdown",
   "metadata": {},
   "source": [
    "<b>Performance Measures</b>"
   ]
  },
  {
   "cell_type": "code",
   "execution_count": 32,
   "metadata": {
    "collapsed": true
   },
   "outputs": [],
   "source": [
    "with tf.name_scope('Accuracy'):\n",
    "    #vector of booleans whether the predicted class equals the true class of the image\n",
    "    correct_prediction = tf.equal(y_pred_cls, y_true_cls)\n",
    "    #type-cast the booleans to floats (False is 0 and True is 1), then take an average\n",
    "    accuracy = tf.reduce_mean(tf.cast(correct_prediction, tf.float32))"
   ]
  },
  {
   "cell_type": "markdown",
   "metadata": {
    "collapsed": true
   },
   "source": [
    "### Create cost and accuracy summaries Merge Tensorboard Summaries"
   ]
  },
  {
   "cell_type": "code",
   "execution_count": 33,
   "metadata": {
    "collapsed": true
   },
   "outputs": [],
   "source": [
    "#This code doesn't work with AWS yet\n",
    "#tf.summary.scalar(\"cost\", cost)\n",
    "#tf.summary.scalar(\"accuracy\", accuracy)\n",
    "#summary_op = tf.summary.merge_all()\n"
   ]
  },
  {
   "cell_type": "markdown",
   "metadata": {},
   "source": [
    "## TensorFlow Run Dropout is 1.0"
   ]
  },
  {
   "cell_type": "code",
   "execution_count": 34,
   "metadata": {
    "collapsed": true
   },
   "outputs": [],
   "source": [
    "session = tf.Session()"
   ]
  },
  {
   "cell_type": "code",
   "execution_count": 35,
   "metadata": {
    "collapsed": true
   },
   "outputs": [],
   "source": [
    "#initialize variables\n",
    "session.run(tf.global_variables_initializer())\n",
    "\n",
    "#op to write logs to Tensorboard\n",
    "#summary_writer = tf.summary.FileWriter(logs_path,session.graph)"
   ]
  },
  {
   "cell_type": "markdown",
   "metadata": {},
   "source": [
    "## Function to perform optimization iterations\n"
   ]
  },
  {
   "cell_type": "code",
   "execution_count": 36,
   "metadata": {
    "collapsed": true
   },
   "outputs": [],
   "source": [
    "train_batch_size = 64"
   ]
  },
  {
   "cell_type": "code",
   "execution_count": 37,
   "metadata": {
    "collapsed": true
   },
   "outputs": [],
   "source": [
    "test_batch_size = 256\n",
    "\n",
    "def print_test_accuracy(show_example_errors = False, \n",
    "                       show_confusion_matrix = False):\n",
    "    num_test = len(data.test.images)\n",
    "    \n",
    "    #Array for the predicted class, calculated in batches and filled into this array\n",
    "    cls_pred = np.zeros(shape=num_test, dtype=np.int)\n",
    "    \n",
    "    i = 0 \n",
    "    \n",
    "    while i < num_test:\n",
    "        #The ending index for next batch is denoted by j\n",
    "        j = min(i + test_batch_size, num_test)\n",
    "        \n",
    "        images = data.test.images[i:j, :]\n",
    "        \n",
    "        labels = data.test.labels[i:j, :]\n",
    "        \n",
    "        feed_dict = {x:images, \n",
    "                    y_true: labels}\n",
    "        \n",
    "        cls_pred[i:j] = session.run(y_pred_cls, feed_dict=feed_dict)\n",
    "        \n",
    "        i = j\n",
    "    \n",
    "    #true class numbers of the test set \n",
    "    cls_true = data.test.cls\n",
    "    \n",
    "    #Boolean array indicating correct/incorrect image classification\n",
    "    correct = (cls_true == cls_pred)\n",
    "    \n",
    "    #Total number of correct images\n",
    "    correct_sum = correct.sum()\n",
    "    \n",
    "    #accuracy is number of correct images over total images in test set\n",
    "    acc = float(correct_sum) / num_test\n",
    "    \n",
    "    msg = \"Accuracy on Test-Set: {0:.1%} ({1} /{2})\"\n",
    "    print(msg.format(acc, correct_sum, num_test))\n",
    "    \n",
    "    if show_example_errors:\n",
    "        print(\"Example errors:\")\n",
    "        plot_example_errors(cls_pred=cls_pred, correct=correct)\n",
    "        \n",
    "    if show_confusion_matrix:\n",
    "        print(\"Confusion Matrix:\")\n",
    "        plot_confusion_matrix(cls_pred=cls_pred)\n",
    "        "
   ]
  },
  {
   "cell_type": "code",
   "execution_count": 38,
   "metadata": {
    "collapsed": true
   },
   "outputs": [],
   "source": [
    "#Counter for total iterations so far\n",
    "total_iterations = 0\n",
    "\n",
    "def optimize(num_iterations):\n",
    "    #update global variable rather than local copy\n",
    "    global total_iterations\n",
    "    \n",
    "    start_time = time.time()\n",
    "    \n",
    "    for i in range(total_iterations, \n",
    "                   total_iterations + num_iterations):\n",
    "    \n",
    "        #Get a batch of training examples\n",
    "        #x_batch now holds a batch of images and \n",
    "        #y_batch are the true labels for those images\n",
    "        x_batch, y_true_batch = data.train.next_batch(train_batch_size)\n",
    "    \n",
    "        #Put the batch into a dict with the proper names\n",
    "        #for placeholder variables in the tf graph\n",
    "        feed_dict_train = {x: x_batch,\n",
    "                          y_true: y_true_batch}\n",
    "    \n",
    "        #Run the optimizer using this batch of trianing data.\n",
    "        #Also runs tensors for cost and summary\n",
    "        #Tf assigns the variables in feed_dict_train \n",
    "        #to the placeholder variables and then runs the optimizer\n",
    "        # why does code use _ ??\n",
    "        #removed summary_op b/c doesn't work with AWS yet 27Jun17\n",
    "        _, c =session.run([optimizer,cost],feed_dict=feed_dict_train)\n",
    "        \n",
    "        #write logs at each iteration\n",
    "        #summary_writer.add_summary(summary, total_iterations)\n",
    "        \n",
    "        #print status each 100 iterations\n",
    "        if i % 100 == 0:\n",
    "            acc = session.run(accuracy, feed_dict=feed_dict_train)\n",
    "           \n",
    "            msg = \"Optimization Iteration: {0:>6}, Training Accuracy: {1:>6.1%}\"\n",
    "            \n",
    "            #summary_writer.add_summary(summary, total_iterations)\n",
    "            \n",
    "            print(msg.format(i + 1, acc))\n",
    "            print_test_accuracy()\n",
    "        \n",
    "    #Update the total iteration\n",
    "    total_iterations += num_iterations\n",
    "    \n",
    "    #total time calculation\n",
    "    end_time = time.time()\n",
    "       \n",
    "    time_dif = end_time - start_time\n",
    "    print(\"Time usage: \"+ str(timedelta(seconds=int(round(time_dif)))))\n",
    "    \n",
    "    "
   ]
  },
  {
   "cell_type": "markdown",
   "metadata": {},
   "source": [
    "## Function to plot confusion matrix"
   ]
  },
  {
   "cell_type": "code",
   "execution_count": 39,
   "metadata": {
    "collapsed": true
   },
   "outputs": [],
   "source": [
    "def plot_confusion_matrix(cls_pred):\n",
    "    cls_true = data.test.cls\n",
    "    \n",
    "    cm = confusion_matrix(y_true=cls_true,\n",
    "                         y_pred=cls_pred)\n",
    "    #print as text\n",
    "    print(cm)\n",
    "    \n",
    "    #plot as image\n",
    "    plt.matshow(cm)\n",
    "    \n",
    "    plt.colorbar()\n",
    "    tick_marks = np.arange(num_classes)\n",
    "    plt.xticks(tick_marks, range(num_classes))\n",
    "    plt.yticks(tick_marks, range(num_classes))\n",
    "    plt.xlabel('predicted')\n",
    "    plt.ylabel('true')\n",
    "    \n",
    "    #ensure it is plotted in one Notebook cell\n",
    "    plt.show()\n",
    "    \n",
    "\n",
    "    "
   ]
  },
  {
   "cell_type": "markdown",
   "metadata": {},
   "source": [
    "## Function to show performance"
   ]
  },
  {
   "cell_type": "code",
   "execution_count": 40,
   "metadata": {},
   "outputs": [
    {
     "name": "stdout",
     "output_type": "stream",
     "text": [
      "Accuracy on Test-Set: 10.1% (1013 /10000)\n"
     ]
    }
   ],
   "source": [
    "print_test_accuracy()"
   ]
  },
  {
   "cell_type": "code",
   "execution_count": 41,
   "metadata": {},
   "outputs": [
    {
     "name": "stdout",
     "output_type": "stream",
     "text": [
      "Optimization Iteration:      1, Training Accuracy:  23.4%\n",
      "Accuracy on Test-Set: 14.1% (1408 /10000)\n",
      "Time usage: 0:00:00\n"
     ]
    }
   ],
   "source": [
    "optimize(num_iterations=1)"
   ]
  },
  {
   "cell_type": "markdown",
   "metadata": {
    "collapsed": true
   },
   "source": [
    "## 10,000 optimizations\n"
   ]
  },
  {
   "cell_type": "code",
   "execution_count": 42,
   "metadata": {},
   "outputs": [
    {
     "name": "stdout",
     "output_type": "stream",
     "text": [
      "Optimization Iteration:    101, Training Accuracy:  87.5%\n",
      "Accuracy on Test-Set: 91.2% (9116 /10000)\n",
      "Optimization Iteration:    201, Training Accuracy:  95.3%\n",
      "Accuracy on Test-Set: 93.1% (9313 /10000)\n",
      "Optimization Iteration:    301, Training Accuracy:  96.9%\n",
      "Accuracy on Test-Set: 95.6% (9561 /10000)\n",
      "Optimization Iteration:    401, Training Accuracy:  96.9%\n",
      "Accuracy on Test-Set: 95.8% (9578 /10000)\n",
      "Optimization Iteration:    501, Training Accuracy:  98.4%\n",
      "Accuracy on Test-Set: 97.3% (9731 /10000)\n",
      "Optimization Iteration:    601, Training Accuracy:  98.4%\n",
      "Accuracy on Test-Set: 97.5% (9745 /10000)\n",
      "Optimization Iteration:    701, Training Accuracy: 100.0%\n",
      "Accuracy on Test-Set: 97.7% (9765 /10000)\n",
      "Optimization Iteration:    801, Training Accuracy:  95.3%\n",
      "Accuracy on Test-Set: 98.2% (9819 /10000)\n",
      "Optimization Iteration:    901, Training Accuracy:  98.4%\n",
      "Accuracy on Test-Set: 98.3% (9830 /10000)\n",
      "Optimization Iteration:   1001, Training Accuracy: 100.0%\n",
      "Accuracy on Test-Set: 98.2% (9825 /10000)\n",
      "Optimization Iteration:   1101, Training Accuracy:  98.4%\n",
      "Accuracy on Test-Set: 98.2% (9815 /10000)\n",
      "Optimization Iteration:   1201, Training Accuracy:  96.9%\n",
      "Accuracy on Test-Set: 98.2% (9823 /10000)\n",
      "Optimization Iteration:   1301, Training Accuracy:  98.4%\n",
      "Accuracy on Test-Set: 98.6% (9864 /10000)\n",
      "Optimization Iteration:   1401, Training Accuracy:  98.4%\n",
      "Accuracy on Test-Set: 98.7% (9867 /10000)\n",
      "Optimization Iteration:   1501, Training Accuracy:  98.4%\n",
      "Accuracy on Test-Set: 98.6% (9862 /10000)\n",
      "Optimization Iteration:   1601, Training Accuracy: 100.0%\n",
      "Accuracy on Test-Set: 98.6% (9861 /10000)\n",
      "Optimization Iteration:   1701, Training Accuracy:  98.4%\n",
      "Accuracy on Test-Set: 98.7% (9867 /10000)\n",
      "Optimization Iteration:   1801, Training Accuracy:  98.4%\n",
      "Accuracy on Test-Set: 98.8% (9878 /10000)\n",
      "Optimization Iteration:   1901, Training Accuracy: 100.0%\n",
      "Accuracy on Test-Set: 98.9% (9888 /10000)\n",
      "Optimization Iteration:   2001, Training Accuracy:  98.4%\n",
      "Accuracy on Test-Set: 98.7% (9871 /10000)\n",
      "Optimization Iteration:   2101, Training Accuracy: 100.0%\n",
      "Accuracy on Test-Set: 98.7% (9868 /10000)\n",
      "Optimization Iteration:   2201, Training Accuracy:  98.4%\n",
      "Accuracy on Test-Set: 98.8% (9882 /10000)\n",
      "Optimization Iteration:   2301, Training Accuracy: 100.0%\n",
      "Accuracy on Test-Set: 98.6% (9861 /10000)\n",
      "Optimization Iteration:   2401, Training Accuracy: 100.0%\n",
      "Accuracy on Test-Set: 98.6% (9860 /10000)\n",
      "Optimization Iteration:   2501, Training Accuracy: 100.0%\n",
      "Accuracy on Test-Set: 98.6% (9864 /10000)\n",
      "Optimization Iteration:   2601, Training Accuracy:  98.4%\n",
      "Accuracy on Test-Set: 98.9% (9887 /10000)\n",
      "Optimization Iteration:   2701, Training Accuracy: 100.0%\n",
      "Accuracy on Test-Set: 99.0% (9897 /10000)\n",
      "Optimization Iteration:   2801, Training Accuracy: 100.0%\n",
      "Accuracy on Test-Set: 99.0% (9896 /10000)\n",
      "Optimization Iteration:   2901, Training Accuracy: 100.0%\n",
      "Accuracy on Test-Set: 98.7% (9874 /10000)\n",
      "Optimization Iteration:   3001, Training Accuracy: 100.0%\n",
      "Accuracy on Test-Set: 98.9% (9890 /10000)\n",
      "Optimization Iteration:   3101, Training Accuracy: 100.0%\n",
      "Accuracy on Test-Set: 98.7% (9873 /10000)\n",
      "Optimization Iteration:   3201, Training Accuracy: 100.0%\n",
      "Accuracy on Test-Set: 99.1% (9906 /10000)\n",
      "Optimization Iteration:   3301, Training Accuracy: 100.0%\n",
      "Accuracy on Test-Set: 98.7% (9874 /10000)\n",
      "Optimization Iteration:   3401, Training Accuracy:  98.4%\n",
      "Accuracy on Test-Set: 98.8% (9880 /10000)\n",
      "Optimization Iteration:   3501, Training Accuracy:  98.4%\n",
      "Accuracy on Test-Set: 98.5% (9849 /10000)\n",
      "Optimization Iteration:   3601, Training Accuracy: 100.0%\n",
      "Accuracy on Test-Set: 99.0% (9901 /10000)\n",
      "Optimization Iteration:   3701, Training Accuracy: 100.0%\n",
      "Accuracy on Test-Set: 98.8% (9884 /10000)\n",
      "Optimization Iteration:   3801, Training Accuracy: 100.0%\n",
      "Accuracy on Test-Set: 98.9% (9892 /10000)\n",
      "Optimization Iteration:   3901, Training Accuracy:  96.9%\n",
      "Accuracy on Test-Set: 99.0% (9895 /10000)\n",
      "Optimization Iteration:   4001, Training Accuracy: 100.0%\n",
      "Accuracy on Test-Set: 99.0% (9902 /10000)\n",
      "Optimization Iteration:   4101, Training Accuracy: 100.0%\n",
      "Accuracy on Test-Set: 98.8% (9884 /10000)\n",
      "Optimization Iteration:   4201, Training Accuracy: 100.0%\n",
      "Accuracy on Test-Set: 99.0% (9895 /10000)\n",
      "Optimization Iteration:   4301, Training Accuracy: 100.0%\n",
      "Accuracy on Test-Set: 99.1% (9906 /10000)\n",
      "Optimization Iteration:   4401, Training Accuracy: 100.0%\n",
      "Accuracy on Test-Set: 99.0% (9901 /10000)\n",
      "Optimization Iteration:   4501, Training Accuracy: 100.0%\n",
      "Accuracy on Test-Set: 98.7% (9872 /10000)\n",
      "Optimization Iteration:   4601, Training Accuracy: 100.0%\n",
      "Accuracy on Test-Set: 99.0% (9900 /10000)\n",
      "Optimization Iteration:   4701, Training Accuracy: 100.0%\n",
      "Accuracy on Test-Set: 98.8% (9882 /10000)\n",
      "Optimization Iteration:   4801, Training Accuracy:  98.4%\n",
      "Accuracy on Test-Set: 99.0% (9900 /10000)\n",
      "Optimization Iteration:   4901, Training Accuracy: 100.0%\n",
      "Accuracy on Test-Set: 98.9% (9891 /10000)\n",
      "Optimization Iteration:   5001, Training Accuracy: 100.0%\n",
      "Accuracy on Test-Set: 99.0% (9895 /10000)\n",
      "Optimization Iteration:   5101, Training Accuracy: 100.0%\n",
      "Accuracy on Test-Set: 98.8% (9883 /10000)\n",
      "Optimization Iteration:   5201, Training Accuracy: 100.0%\n",
      "Accuracy on Test-Set: 99.1% (9908 /10000)\n",
      "Optimization Iteration:   5301, Training Accuracy: 100.0%\n",
      "Accuracy on Test-Set: 98.9% (9892 /10000)\n",
      "Optimization Iteration:   5401, Training Accuracy: 100.0%\n",
      "Accuracy on Test-Set: 99.1% (9912 /10000)\n",
      "Optimization Iteration:   5501, Training Accuracy: 100.0%\n",
      "Accuracy on Test-Set: 98.7% (9872 /10000)\n",
      "Optimization Iteration:   5601, Training Accuracy: 100.0%\n",
      "Accuracy on Test-Set: 99.0% (9895 /10000)\n",
      "Optimization Iteration:   5701, Training Accuracy: 100.0%\n",
      "Accuracy on Test-Set: 99.0% (9903 /10000)\n",
      "Optimization Iteration:   5801, Training Accuracy: 100.0%\n",
      "Accuracy on Test-Set: 99.1% (9907 /10000)\n",
      "Optimization Iteration:   5901, Training Accuracy: 100.0%\n",
      "Accuracy on Test-Set: 99.3% (9928 /10000)\n",
      "Optimization Iteration:   6001, Training Accuracy: 100.0%\n",
      "Accuracy on Test-Set: 98.9% (9887 /10000)\n",
      "Optimization Iteration:   6101, Training Accuracy: 100.0%\n",
      "Accuracy on Test-Set: 99.2% (9921 /10000)\n",
      "Optimization Iteration:   6201, Training Accuracy: 100.0%\n",
      "Accuracy on Test-Set: 99.1% (9908 /10000)\n",
      "Optimization Iteration:   6301, Training Accuracy: 100.0%\n",
      "Accuracy on Test-Set: 99.2% (9920 /10000)\n",
      "Optimization Iteration:   6401, Training Accuracy: 100.0%\n",
      "Accuracy on Test-Set: 99.1% (9905 /10000)\n",
      "Optimization Iteration:   6501, Training Accuracy: 100.0%\n",
      "Accuracy on Test-Set: 98.9% (9888 /10000)\n",
      "Optimization Iteration:   6601, Training Accuracy: 100.0%\n",
      "Accuracy on Test-Set: 99.0% (9895 /10000)\n",
      "Optimization Iteration:   6701, Training Accuracy:  96.9%\n",
      "Accuracy on Test-Set: 99.1% (9908 /10000)\n",
      "Optimization Iteration:   6801, Training Accuracy: 100.0%\n",
      "Accuracy on Test-Set: 98.9% (9894 /10000)\n",
      "Optimization Iteration:   6901, Training Accuracy: 100.0%\n",
      "Accuracy on Test-Set: 99.0% (9903 /10000)\n",
      "Optimization Iteration:   7001, Training Accuracy: 100.0%\n",
      "Accuracy on Test-Set: 99.0% (9898 /10000)\n",
      "Optimization Iteration:   7101, Training Accuracy: 100.0%\n",
      "Accuracy on Test-Set: 99.2% (9920 /10000)\n",
      "Optimization Iteration:   7201, Training Accuracy: 100.0%\n",
      "Accuracy on Test-Set: 99.1% (9912 /10000)\n",
      "Optimization Iteration:   7301, Training Accuracy: 100.0%\n",
      "Accuracy on Test-Set: 98.9% (9887 /10000)\n",
      "Optimization Iteration:   7401, Training Accuracy: 100.0%\n",
      "Accuracy on Test-Set: 99.1% (9907 /10000)\n",
      "Optimization Iteration:   7501, Training Accuracy: 100.0%\n",
      "Accuracy on Test-Set: 99.0% (9900 /10000)\n",
      "Optimization Iteration:   7601, Training Accuracy: 100.0%\n",
      "Accuracy on Test-Set: 99.1% (9906 /10000)\n",
      "Optimization Iteration:   7701, Training Accuracy: 100.0%\n",
      "Accuracy on Test-Set: 99.1% (9909 /10000)\n",
      "Optimization Iteration:   7801, Training Accuracy: 100.0%\n",
      "Accuracy on Test-Set: 99.1% (9906 /10000)\n",
      "Optimization Iteration:   7901, Training Accuracy: 100.0%\n",
      "Accuracy on Test-Set: 99.1% (9914 /10000)\n",
      "Optimization Iteration:   8001, Training Accuracy: 100.0%\n",
      "Accuracy on Test-Set: 99.2% (9915 /10000)\n",
      "Optimization Iteration:   8101, Training Accuracy:  98.4%\n",
      "Accuracy on Test-Set: 99.1% (9911 /10000)\n",
      "Optimization Iteration:   8201, Training Accuracy: 100.0%\n"
     ]
    },
    {
     "name": "stdout",
     "output_type": "stream",
     "text": [
      "Accuracy on Test-Set: 99.1% (9908 /10000)\n",
      "Optimization Iteration:   8301, Training Accuracy: 100.0%\n",
      "Accuracy on Test-Set: 99.0% (9898 /10000)\n",
      "Optimization Iteration:   8401, Training Accuracy:  98.4%\n",
      "Accuracy on Test-Set: 99.1% (9912 /10000)\n",
      "Optimization Iteration:   8501, Training Accuracy: 100.0%\n",
      "Accuracy on Test-Set: 99.0% (9896 /10000)\n",
      "Optimization Iteration:   8601, Training Accuracy: 100.0%\n",
      "Accuracy on Test-Set: 99.0% (9902 /10000)\n",
      "Optimization Iteration:   8701, Training Accuracy: 100.0%\n",
      "Accuracy on Test-Set: 99.1% (9914 /10000)\n",
      "Optimization Iteration:   8801, Training Accuracy: 100.0%\n",
      "Accuracy on Test-Set: 99.2% (9919 /10000)\n",
      "Optimization Iteration:   8901, Training Accuracy: 100.0%\n",
      "Accuracy on Test-Set: 99.1% (9905 /10000)\n",
      "Optimization Iteration:   9001, Training Accuracy: 100.0%\n",
      "Accuracy on Test-Set: 99.1% (9905 /10000)\n",
      "Optimization Iteration:   9101, Training Accuracy: 100.0%\n",
      "Accuracy on Test-Set: 99.0% (9902 /10000)\n",
      "Optimization Iteration:   9201, Training Accuracy: 100.0%\n",
      "Accuracy on Test-Set: 99.1% (9906 /10000)\n",
      "Optimization Iteration:   9301, Training Accuracy: 100.0%\n",
      "Accuracy on Test-Set: 99.1% (9910 /10000)\n",
      "Optimization Iteration:   9401, Training Accuracy: 100.0%\n",
      "Accuracy on Test-Set: 99.0% (9903 /10000)\n",
      "Optimization Iteration:   9501, Training Accuracy: 100.0%\n",
      "Accuracy on Test-Set: 99.2% (9918 /10000)\n",
      "Optimization Iteration:   9601, Training Accuracy: 100.0%\n",
      "Accuracy on Test-Set: 99.1% (9914 /10000)\n",
      "Optimization Iteration:   9701, Training Accuracy: 100.0%\n",
      "Accuracy on Test-Set: 99.2% (9918 /10000)\n",
      "Optimization Iteration:   9801, Training Accuracy: 100.0%\n",
      "Accuracy on Test-Set: 99.3% (9929 /10000)\n",
      "Optimization Iteration:   9901, Training Accuracy: 100.0%\n",
      "Accuracy on Test-Set: 98.9% (9893 /10000)\n",
      "Optimization Iteration:  10001, Training Accuracy: 100.0%\n",
      "Accuracy on Test-Set: 99.1% (9914 /10000)\n",
      "Time usage: 0:01:19\n"
     ]
    }
   ],
   "source": [
    "optimize(num_iterations =10000) "
   ]
  },
  {
   "cell_type": "code",
   "execution_count": 43,
   "metadata": {},
   "outputs": [
    {
     "name": "stdout",
     "output_type": "stream",
     "text": [
      "Accuracy on Test-Set: 99.1% (9914 /10000)\n",
      "Confusion Matrix:\n",
      "[[ 975    0    0    0    0    0    3    0    1    1]\n",
      " [   0 1133    0    0    0    1    1    0    0    0]\n",
      " [   1    1 1023    1    1    0    3    1    1    0]\n",
      " [   0    0    3 1004    0    1    0    0    2    0]\n",
      " [   0    0    1    0  976    0    2    0    1    2]\n",
      " [   1    0    0    7    0  877    5    0    1    1]\n",
      " [   1    2    0    0    1    4  947    0    3    0]\n",
      " [   0    4    6    1    0    0    0 1012    2    3]\n",
      " [   3    0    0    1    1    1    0    0  967    1]\n",
      " [   0    0    0    1    4    3    0    0    1 1000]]\n"
     ]
    },
    {
     "data": {
      "image/png": "[encoded data removed]",
      "text/plain": [
       "<matplotlib.figure.Figure at 0x7f7665075c50>"
      ]
     },
     "metadata": {},
     "output_type": "display_data"
    }
   ],
   "source": [
    "print_test_accuracy(show_confusion_matrix = True)"
   ]
  },
  {
   "cell_type": "code",
   "execution_count": 44,
   "metadata": {
    "collapsed": true
   },
   "outputs": [],
   "source": [
    "session.close()"
   ]
  }
 ],
 "metadata": {
  "kernelspec": {
   "display_name": "Python 3",
   "language": "python",
   "name": "python3"
  },
  "language_info": {
   "codemirror_mode": {
    "name": "ipython",
    "version": 3
   },
   "file_extension": ".py",
   "mimetype": "text/x-python",
   "name": "python",
   "nbconvert_exporter": "python",
   "pygments_lexer": "ipython3",
   "version": "3.4.3"
  }
 },
 "nbformat": 4,
 "nbformat_minor": 2
}
