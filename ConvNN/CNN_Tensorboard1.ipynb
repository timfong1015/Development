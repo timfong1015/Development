{
 "cells": [
  {
   "cell_type": "markdown",
   "metadata": {},
   "source": [
    "This code derived from TensorFlow Tutorials/Hvass"
   ]
  },
  {
   "cell_type": "code",
   "execution_count": 1,
   "metadata": {
    "collapsed": false
   },
   "outputs": [],
   "source": [
    "%matplotlib inline\n",
    "import matplotlib.pyplot as plt\n",
    "import tensorflow as tf\n",
    "import numpy as np\n",
    "from sklearn.metrics import confusion_matrix\n",
    "import time\n",
    "from datetime import timedelta\n",
    "import math"
   ]
  },
  {
   "cell_type": "code",
   "execution_count": 2,
   "metadata": {
    "collapsed": false
   },
   "outputs": [
    {
     "data": {
      "text/plain": [
       "'1.0.1'"
      ]
     },
     "execution_count": 2,
     "metadata": {},
     "output_type": "execute_result"
    }
   ],
   "source": [
    "tf.__version__\n"
   ]
  },
  {
   "cell_type": "markdown",
   "metadata": {},
   "source": [
    "<b> Configuration of Neural Network </b>"
   ]
  },
  {
   "cell_type": "code",
   "execution_count": 3,
   "metadata": {
    "collapsed": true
   },
   "outputs": [],
   "source": [
    "#Convolution Layer 1\n",
    "filter_size1 = 5 #Convolution filters are 5x5 pixels\n",
    "num_filters1 = 16 #There are 16 of these filters\n",
    "\n",
    "#Convolution Layer 2\n",
    "filter_size2 = 5 #As above, 5x5 pixels\n",
    "num_filters2 = 36 #there are 36 filters\n",
    "\n",
    "#Fully-connected layer\n",
    "fc_size = 128 #number of neurons in the fully connected layer\n",
    "\n",
    "#tensorboard log directory\n",
    "logs_path = \"/Users/Tim/Documents/BacktoSchool/Zicklin/Handwriting/logs\"\n",
    "\n"
   ]
  },
  {
   "cell_type": "code",
   "execution_count": 4,
   "metadata": {
    "collapsed": false
   },
   "outputs": [
    {
     "name": "stdout",
     "output_type": "stream",
     "text": [
      "Extracting data/MNIST/train-images-idx3-ubyte.gz\n",
      "Extracting data/MNIST/train-labels-idx1-ubyte.gz\n",
      "Extracting data/MNIST/t10k-images-idx3-ubyte.gz\n",
      "Extracting data/MNIST/t10k-labels-idx1-ubyte.gz\n"
     ]
    }
   ],
   "source": [
    "from tensorflow.examples.tutorials.mnist import input_data\n",
    "data = input_data.read_data_sets('data/MNIST', one_hot=True)\n"
   ]
  },
  {
   "cell_type": "code",
   "execution_count": 5,
   "metadata": {
    "collapsed": false
   },
   "outputs": [
    {
     "name": "stdout",
     "output_type": "stream",
     "text": [
      "Size of:\n",
      "--Training set:\t\t55000\n",
      "--Test-set:\t\t10000\n",
      "--Validation-set:\t5000\n"
     ]
    }
   ],
   "source": [
    "print(\"Size of:\")\n",
    "print(\"--Training set:\\t\\t{}\".format(len(data.train.labels)))\n",
    "print(\"--Test-set:\\t\\t{}\".format(len(data.test.labels)))\n",
    "print(\"--Validation-set:\\t{}\".format(len(data.validation.labels)))\n"
   ]
  },
  {
   "cell_type": "code",
   "execution_count": 6,
   "metadata": {
    "collapsed": false
   },
   "outputs": [],
   "source": [
    "data.test.cls = np.argmax(data.test.labels, axis = 1)\n"
   ]
  },
  {
   "cell_type": "code",
   "execution_count": 7,
   "metadata": {
    "collapsed": true
   },
   "outputs": [],
   "source": [
    "#MNIST images are 28x28\n",
    "img_size = 28\n",
    "\n",
    "#Images are stored in flat arrays of this length\n",
    "img_size_flat = img_size*img_size\n",
    "\n",
    "#Tuple with height and width of images used to reshape arrays\n",
    "img_shape = (img_size, img_size)\n",
    "\n",
    "#Number of color channels for the images\n",
    "num_channels = 1\n",
    "\n",
    "#Number of classes, one for each of 10 digits\n",
    "num_classes = 10\n",
    "\n",
    "#tensorboard log directory\n",
    "logs_path = \"/Users/Tim/Documents/BacktoSchool/Zicklin/Handwriting/logs\"\n"
   ]
  },
  {
   "cell_type": "code",
   "execution_count": 8,
   "metadata": {
    "collapsed": false
   },
   "outputs": [],
   "source": [
    "def plot_images(images, cls_true, cls_pred=None):\n",
    "    assert len(images) == len(cls_true) == 9\n",
    "    \n",
    "    #Create figure with 3x3 subplots\n",
    "    fig, axes = plt.subplots(3,3)\n",
    "    fig.subplots_adjust(hspace=0.3, wspace=0.3)\n",
    "    \n",
    "    for i, ax in enumerate(axes.flat):\n",
    "        #plot image. COME BACK TO THIS CODE TIM\n",
    "        ax.imshow(images[i].reshape(img_shape), cmap='binary')\n",
    "        \n",
    "        #show true and predicted classes \n",
    "        if cls_pred is None:\n",
    "            xlabel = \"True: {0}\".format(cls_true[i])\n",
    "        else:\n",
    "            xlabel = \"True: {0}, Pred: {1}\".format(cls_true[i], cls_pred[i])\n",
    "        \n",
    "        #show the classes as the label on the x-axis\n",
    "        ax.set_xlabel(xlabel)\n",
    "        \n",
    "        #Remove ticks from the plot\n",
    "        ax.set_xticks([])\n",
    "        ax.set_yticks([])\n",
    "        \n",
    "    #ensure the plot is shown correctly with multiple plots in single cell\n",
    "    plt.show()\n",
    "    "
   ]
  },
  {
   "cell_type": "code",
   "execution_count": 9,
   "metadata": {
    "collapsed": false
   },
   "outputs": [
    {
     "data": {
      "image/png": "[encoded data removed]",
      "text/plain": [
       "<matplotlib.figure.Figure at 0x119d82780>"
      ]
     },
     "metadata": {},
     "output_type": "display_data"
    }
   ],
   "source": [
    "#Get images\n",
    "images = data.test.images[0:9]\n",
    "\n",
    "#Get the true classes\n",
    "cls_true = data.test.cls[0:9]\n",
    "\n",
    "#Plot images\n",
    "plot_images(images=images, cls_true=cls_true)\n"
   ]
  },
  {
   "cell_type": "code",
   "execution_count": 10,
   "metadata": {
    "collapsed": false
   },
   "outputs": [
    {
     "data": {
      "text/plain": [
       "['__add__',\n",
       " '__class__',\n",
       " '__contains__',\n",
       " '__delattr__',\n",
       " '__dir__',\n",
       " '__doc__',\n",
       " '__eq__',\n",
       " '__format__',\n",
       " '__ge__',\n",
       " '__getattribute__',\n",
       " '__getitem__',\n",
       " '__getnewargs__',\n",
       " '__gt__',\n",
       " '__hash__',\n",
       " '__init__',\n",
       " '__iter__',\n",
       " '__le__',\n",
       " '__len__',\n",
       " '__lt__',\n",
       " '__module__',\n",
       " '__mul__',\n",
       " '__ne__',\n",
       " '__new__',\n",
       " '__reduce__',\n",
       " '__reduce_ex__',\n",
       " '__repr__',\n",
       " '__rmul__',\n",
       " '__setattr__',\n",
       " '__sizeof__',\n",
       " '__slots__',\n",
       " '__str__',\n",
       " '__subclasshook__',\n",
       " '_asdict',\n",
       " '_fields',\n",
       " '_make',\n",
       " '_replace',\n",
       " '_source',\n",
       " 'count',\n",
       " 'index',\n",
       " 'test',\n",
       " 'train',\n",
       " 'validation']"
      ]
     },
     "execution_count": 10,
     "metadata": {},
     "output_type": "execute_result"
    }
   ],
   "source": [
    "#get all the classes in the dataset\n",
    "dir(data)\n"
   ]
  },
  {
   "cell_type": "code",
   "execution_count": 11,
   "metadata": {
    "collapsed": false
   },
   "outputs": [
    {
     "name": "stdout",
     "output_type": "stream",
     "text": [
      "Datasets(train=<tensorflow.contrib.learn.python.learn.datasets.mnist.DataSet object at 0x1144b3e10>, validation=<tensorflow.contrib.learn.python.learn.datasets.mnist.DataSet object at 0x104673f60>, test=<tensorflow.contrib.learn.python.learn.datasets.mnist.DataSet object at 0x1051fa978>)\n"
     ]
    }
   ],
   "source": [
    "print(data)"
   ]
  },
  {
   "cell_type": "markdown",
   "metadata": {},
   "source": [
    "<b>Function: Creating variables and initializing with random values</b>"
   ]
  },
  {
   "cell_type": "code",
   "execution_count": 12,
   "metadata": {
    "collapsed": true
   },
   "outputs": [],
   "source": [
    "def new_weights(shape):\n",
    "    return tf.Variable(tf.truncated_normal(shape, stddev=0.05))\n",
    "\n",
    "def new_biases(length):\n",
    "    return tf.Variable(tf.constant(0.05, shape=[length]))"
   ]
  },
  {
   "cell_type": "markdown",
   "metadata": {},
   "source": [
    "### Create Variable Summaries for Tensorboard"
   ]
  },
  {
   "cell_type": "code",
   "execution_count": 13,
   "metadata": {
    "collapsed": true
   },
   "outputs": [],
   "source": [
    "def variable_summaries(var):\n",
    "        \n",
    "        #attach a  lot of summaries to a tensor for visualization. From\n",
    "        #https://www.tensorflow.org/get_started/summaries_and_tensorboard\n",
    "        with tf.name_scope('summaries'):\n",
    "            mean = tf.reduce_mean(var)\n",
    "            tf.summary.scalar('mean', mean)\n",
    "            \n",
    "            with tf.name_scope('stddev'):\n",
    "                stddev = tf.sqrt(tf.reduce_mean(tf.square(var - mean)))\n",
    "            \n",
    "            tf.summary.scalar('stddev', stddev)\n",
    "            tf.summary.scalar('max', tf.reduce_max(var))    \n",
    "            tf.summary.scalar('min', tf.reduce_min(var))\n",
    "            #tf.summary.historgram('histogram', var)"
   ]
  },
  {
   "cell_type": "markdown",
   "metadata": {},
   "source": [
    "### Function: to create first convolution layer\n"
   ]
  },
  {
   "cell_type": "code",
   "execution_count": 14,
   "metadata": {
    "collapsed": false
   },
   "outputs": [],
   "source": [
    "def new_conv_layer(input, #previous layer \n",
    "                   num_input_channels,#Num. channels in prev. layer\n",
    "                   filter_size,#width and size of each filter\n",
    "                   num_filters, \n",
    "                   use_pooling=True,): #use 2x2 max pooling\n",
    "    # adding a name scope to ensure logical grouping of layers in graph\n",
    "    with tf.name_scope('Convolutional_Layer'):\n",
    "        \n",
    "        #shape of filter-weights for convolution. Format determined by TensorFlow API\n",
    "        shape = [filter_size,filter_size,num_input_channels,num_filters]\n",
    "    \n",
    "        #Holds the state of the weights for the layer\n",
    "        with tf.name_scope('weights'):\n",
    "            #new weights aka filters with the given shape\n",
    "            weights = new_weights(shape=shape)\n",
    "            variable_summaries(weights)\n",
    "        \n",
    "        with tf.name_scope('biases'):\n",
    "            #create new biases one for each filter\n",
    "            biases = new_biases(length=num_filters)\n",
    "            variable_summaries(biases)\n",
    "    \n",
    "        #TensorFlow operation for convolution. Strides are set to 1 in all dimensions. CHECK STRIDE NOTATION\n",
    "        #The first and last stride must be set to 1, \n",
    "        #because the first is for the image number\n",
    "        #second is for the input channel\n",
    "        #e.g. [1,2,2,1] would mean that the filter moves 2 pixels across x and y axes of image\n",
    "        #Padding is set to 'SAME' which means input image is padded with zeros\n",
    "        #making the size of the output the same\n",
    "        layer = tf.nn.conv2d(input=input, \n",
    "                         filter=weights, \n",
    "                        strides=[1,1,1,1],\n",
    "                        padding='SAME')\n",
    "        layer = tf.nn.max_pool(value=layer,\n",
    "                            ksize=[1,2,2,1],\n",
    "                            strides=[1,2,2,1],\n",
    "                            padding='SAME')\n",
    "    \n",
    "        #Rectified Linear Unit\n",
    "        #Calculates max(x, 0) for each input pixel, x. Adds non-linearity\n",
    "        #Normally ReLU executed before pooling, but since relu(max_pool(x)) == max_pool(relu(x)) \n",
    "        # we save 75% of ReLU operations by max-pooling first.\n",
    "        layer = tf.nn.relu(layer)\n",
    "    \n",
    "        #We use return becauase we will plot the weights later. \n",
    "        return layer, weights\n",
    "    \n",
    "    \n",
    "    \n",
    "    \n",
    "    "
   ]
  },
  {
   "cell_type": "markdown",
   "metadata": {},
   "source": [
    "### Function to Flatten a Layer"
   ]
  },
  {
   "cell_type": "code",
   "execution_count": 15,
   "metadata": {
    "collapsed": true
   },
   "outputs": [],
   "source": [
    "def flatten_layer(layer):\n",
    "    with tf.name_scope('Flatten_Layer'):\n",
    "        #Shape of input layer, assumed to be \n",
    "        #layer_shape == [num_images, img_height, img_width, num_channels]\n",
    "        layer_shape=layer.get_shape()\n",
    "    \n",
    "        #The number of features is: img_height*img_width*num_channels]\n",
    "        num_features = layer_shape[1:4].num_elements()\n",
    "    \n",
    "        #Reshape layer to just [num_images, num_features]\n",
    "        layer_flat = tf.reshape(layer, [-1, num_features])\n",
    "    \n",
    "        return layer_flat, num_features\n",
    "    \n",
    "    \n",
    "    \n",
    "    \n",
    "    "
   ]
  },
  {
   "cell_type": "markdown",
   "metadata": {},
   "source": [
    "<b>Function to create Fully-Connected Layer</b>"
   ]
  },
  {
   "cell_type": "code",
   "execution_count": 16,
   "metadata": {
    "collapsed": true
   },
   "outputs": [],
   "source": [
    "def new_fc_layer(input, #previous layer\n",
    "                num_inputs, #from previous layer\n",
    "                num_outputs,\n",
    "                use_relu = True): #Rectified linear unit\n",
    "    with tf.name_scope('Fully_Connected_Layer'):\n",
    "        #create new weights and biases, call previous function \n",
    "        weights = new_weights(shape=[num_inputs,num_outputs])\n",
    "        biases = new_biases(length=num_outputs)\n",
    "    \n",
    "        #Calculate the layer as matrix multiplcation of input and weights \n",
    "        #plus the bias values\n",
    "        layer=tf.matmul(input,weights) + biases\n",
    "    \n",
    "        #Use ReLU?\n",
    "        if use_relu:\n",
    "            layer = tf.nn.relu(layer)\n",
    "        \n",
    "        return layer\n",
    "    "
   ]
  },
  {
   "cell_type": "markdown",
   "metadata": {},
   "source": [
    "<b>Placeholder Variables</b>"
   ]
  },
  {
   "cell_type": "code",
   "execution_count": 17,
   "metadata": {
    "collapsed": false
   },
   "outputs": [],
   "source": [
    "#tensor for images, multidimensional matrix, None means the tensor holds arbitrary number of images\n",
    "#with each vector of length img_size_flat representing one image.\n",
    "x = tf.placeholder(tf.float32,shape=[None,img_size_flat],name='x')\n",
    "\n",
    "#\n",
    "with tf.name_scope('Input_Images'):\n",
    "    x_image = tf.reshape(x,[-1,img_size,img_size,num_channels])\n",
    "\n",
    "    y_true = tf.placeholder(tf.float32,shape=[None,10],name='y_true')\n",
    "\n",
    "    y_true_cls = tf.argmax(y_true, dimension=1)"
   ]
  },
  {
   "cell_type": "markdown",
   "metadata": {},
   "source": [
    "<b>Convolutional Layer 1</b>"
   ]
  },
  {
   "cell_type": "code",
   "execution_count": 18,
   "metadata": {
    "collapsed": false
   },
   "outputs": [],
   "source": [
    "layer_conv1, weights_conv1 = \\\n",
    "    new_conv_layer(input=x_image,\n",
    "                   num_input_channels=num_channels,\n",
    "                   filter_size=filter_size1,\n",
    "                   num_filters=num_filters1,\n",
    "                   use_pooling=True)"
   ]
  },
  {
   "cell_type": "code",
   "execution_count": 19,
   "metadata": {
    "collapsed": false
   },
   "outputs": [
    {
     "data": {
      "text/plain": [
       "<tf.Tensor 'Convolutional_Layer/Relu:0' shape=(?, 14, 14, 16) dtype=float32>"
      ]
     },
     "execution_count": 19,
     "metadata": {},
     "output_type": "execute_result"
    }
   ],
   "source": [
    "layer_conv1"
   ]
  },
  {
   "cell_type": "markdown",
   "metadata": {},
   "source": [
    "<b>Convolutional Layer 2</b>"
   ]
  },
  {
   "cell_type": "code",
   "execution_count": 20,
   "metadata": {
    "collapsed": false
   },
   "outputs": [],
   "source": [
    "layer_conv2, weights_conv2 =\\\n",
    "    new_conv_layer(input=layer_conv1,\n",
    "                  num_input_channels=num_filters1,\n",
    "                  filter_size=filter_size2,\n",
    "                  num_filters=num_filters2,\n",
    "                  use_pooling=True)\n",
    "    "
   ]
  },
  {
   "cell_type": "code",
   "execution_count": 21,
   "metadata": {
    "collapsed": false
   },
   "outputs": [
    {
     "data": {
      "text/plain": [
       "<tf.Tensor 'Convolutional_Layer_1/Relu:0' shape=(?, 7, 7, 36) dtype=float32>"
      ]
     },
     "execution_count": 21,
     "metadata": {},
     "output_type": "execute_result"
    }
   ],
   "source": [
    "layer_conv2"
   ]
  },
  {
   "cell_type": "code",
   "execution_count": 22,
   "metadata": {
    "collapsed": false
   },
   "outputs": [
    {
     "data": {
      "text/plain": [
       "<tensorflow.python.ops.variables.Variable at 0x12365cd30>"
      ]
     },
     "execution_count": 22,
     "metadata": {},
     "output_type": "execute_result"
    }
   ],
   "source": [
    "\n",
    "weights_conv2"
   ]
  },
  {
   "cell_type": "markdown",
   "metadata": {},
   "source": [
    "<b>Flatten Layer</b>"
   ]
  },
  {
   "cell_type": "code",
   "execution_count": 23,
   "metadata": {
    "collapsed": false
   },
   "outputs": [],
   "source": [
    "layer_flat, num_features = flatten_layer(layer_conv2)\n"
   ]
  },
  {
   "cell_type": "code",
   "execution_count": 24,
   "metadata": {
    "collapsed": false
   },
   "outputs": [
    {
     "data": {
      "text/plain": [
       "<tf.Tensor 'Flatten_Layer/Reshape:0' shape=(?, 1764) dtype=float32>"
      ]
     },
     "execution_count": 24,
     "metadata": {},
     "output_type": "execute_result"
    }
   ],
   "source": [
    "layer_flat\n"
   ]
  },
  {
   "cell_type": "code",
   "execution_count": 25,
   "metadata": {
    "collapsed": false
   },
   "outputs": [
    {
     "data": {
      "text/plain": [
       "1764"
      ]
     },
     "execution_count": 25,
     "metadata": {},
     "output_type": "execute_result"
    }
   ],
   "source": [
    "num_features"
   ]
  },
  {
   "cell_type": "markdown",
   "metadata": {},
   "source": [
    "<b>Fully Connected Layer 1</b>"
   ]
  },
  {
   "cell_type": "code",
   "execution_count": 26,
   "metadata": {
    "collapsed": false
   },
   "outputs": [],
   "source": [
    "layer_fc1 = new_fc_layer(input=layer_flat,\n",
    "                        num_inputs=num_features,\n",
    "                        num_outputs=fc_size,\n",
    "                        use_relu=True)\n"
   ]
  },
  {
   "cell_type": "markdown",
   "metadata": {
    "collapsed": true
   },
   "source": [
    "<b>Fully Connected Layer 2</b>"
   ]
  },
  {
   "cell_type": "code",
   "execution_count": 27,
   "metadata": {
    "collapsed": false
   },
   "outputs": [],
   "source": [
    "layer_fc2 = new_fc_layer(input=layer_fc1, \n",
    "                            num_inputs=fc_size,\n",
    "                        num_outputs=num_classes,\n",
    "                        use_relu=False)"
   ]
  },
  {
   "cell_type": "code",
   "execution_count": 28,
   "metadata": {
    "collapsed": false
   },
   "outputs": [
    {
     "data": {
      "text/plain": [
       "<tf.Tensor 'Fully_Connected_Layer_1/add:0' shape=(?, 10) dtype=float32>"
      ]
     },
     "execution_count": 28,
     "metadata": {},
     "output_type": "execute_result"
    }
   ],
   "source": [
    "layer_fc2"
   ]
  },
  {
   "cell_type": "markdown",
   "metadata": {},
   "source": [
    "<b>Predicted Class</b>"
   ]
  },
  {
   "cell_type": "code",
   "execution_count": 29,
   "metadata": {
    "collapsed": true
   },
   "outputs": [],
   "source": [
    "with tf.name_scope(\"softmax\"):\n",
    "    y_pred = tf.nn.softmax(layer_fc2)"
   ]
  },
  {
   "cell_type": "code",
   "execution_count": 31,
   "metadata": {
    "collapsed": false
   },
   "outputs": [],
   "source": [
    "with tf.name_scope(\"y_pred\"):\n",
    "    y_pred_cls = tf.argmax(y_pred, dimension=1)"
   ]
  },
  {
   "cell_type": "markdown",
   "metadata": {},
   "source": [
    "<b>Cross-function to be optimized</b>"
   ]
  },
  {
   "cell_type": "code",
   "execution_count": 32,
   "metadata": {
    "collapsed": true
   },
   "outputs": [],
   "source": [
    "with tf.name_scope('cross_entropy'):\n",
    "    cross_entropy = tf.nn.softmax_cross_entropy_with_logits(logits=layer_fc2, labels=y_true)"
   ]
  },
  {
   "cell_type": "code",
   "execution_count": 33,
   "metadata": {
    "collapsed": true
   },
   "outputs": [],
   "source": [
    "with tf.name_scope('cost'):\n",
    "    cost = tf.reduce_mean(cross_entropy)"
   ]
  },
  {
   "cell_type": "markdown",
   "metadata": {},
   "source": [
    "<b>Optimization Method</b>"
   ]
  },
  {
   "cell_type": "code",
   "execution_count": 35,
   "metadata": {
    "collapsed": false
   },
   "outputs": [],
   "source": [
    "with tf.name_scope('train'):\n",
    "    optimizer = tf.train.AdamOptimizer(learning_rate=1e-4).minimize(cost)"
   ]
  },
  {
   "cell_type": "markdown",
   "metadata": {},
   "source": [
    "<b>Performance Measures</b>"
   ]
  },
  {
   "cell_type": "code",
   "execution_count": 37,
   "metadata": {
    "collapsed": false
   },
   "outputs": [],
   "source": [
    "with tf.name_scope('Accuracy'):\n",
    "    #vector of booleans whether the predicted class equals the true class of the image\n",
    "    correct_prediction = tf.equal(y_pred_cls, y_true_cls)\n",
    "    #type-cast the booleans to floats (False is 0 and True is 1), then take an average\n",
    "    accuracy = tf.reduce_mean(tf.cast(correct_prediction, tf.float32))"
   ]
  },
  {
   "cell_type": "markdown",
   "metadata": {
    "collapsed": true
   },
   "source": [
    "### Create cost and accuracy summaries Merge Tensorboard Summaries"
   ]
  },
  {
   "cell_type": "code",
   "execution_count": 38,
   "metadata": {
    "collapsed": false
   },
   "outputs": [],
   "source": [
    "tf.summary.scalar(\"cost\", cost)\n",
    "tf.summary.scalar(\"accuracy\", accuracy)\n",
    "summary_op = tf.summary.merge_all()\n"
   ]
  },
  {
   "cell_type": "markdown",
   "metadata": {},
   "source": [
    "## TensorFlow Run"
   ]
  },
  {
   "cell_type": "code",
   "execution_count": 39,
   "metadata": {
    "collapsed": true
   },
   "outputs": [],
   "source": [
    "session = tf.Session()"
   ]
  },
  {
   "cell_type": "code",
   "execution_count": 40,
   "metadata": {
    "collapsed": false
   },
   "outputs": [],
   "source": [
    "#initialize variables\n",
    "session.run(tf.global_variables_initializer())\n",
    "\n",
    "#op to write logs to Tensorboard\n",
    "summary_writer = tf.summary.FileWriter(logs_path,session.graph)"
   ]
  },
  {
   "cell_type": "markdown",
   "metadata": {},
   "source": [
    "## Function to perform optimization iterations\n"
   ]
  },
  {
   "cell_type": "code",
   "execution_count": 41,
   "metadata": {
    "collapsed": true
   },
   "outputs": [],
   "source": [
    "train_batch_size = 64"
   ]
  },
  {
   "cell_type": "code",
   "execution_count": 54,
   "metadata": {
    "collapsed": false
   },
   "outputs": [],
   "source": [
    "#Counter for total iterations so far\n",
    "total_iterations = 0\n",
    "\n",
    "def optimize(num_iterations):\n",
    "    #update global variable rather than local copy\n",
    "    global total_iterations\n",
    "    \n",
    "    start_time = time.time()\n",
    "    \n",
    "    for i in range(total_iterations, \n",
    "                   total_iterations + num_iterations):\n",
    "    \n",
    "        #Get a batch of training examples\n",
    "        #x_batch now holds a batch of images and \n",
    "        #y_batch are the true labels for those images\n",
    "        x_batch, y_true_batch = data.train.next_batch(train_batch_size)\n",
    "    \n",
    "        #Put the batch into a dict with the proper names\n",
    "        #for placeholder variables in the tf graph\n",
    "        feed_dict_train = {x: x_batch,\n",
    "                          y_true: y_true_batch}\n",
    "    \n",
    "        #Run the optimizer using this batch of trianing data.\n",
    "        #Also runs tensors for cost and summary\n",
    "        #Tf assigns the variables in feed_dict_train \n",
    "        #to the placeholder variables and then runs the optimizer\n",
    "        _, c, summary  =session.run([optimizer,cost,summary_op],feed_dict=feed_dict_train)\n",
    "        \n",
    "        #write logs at each iteration\n",
    "        summary_writer.add_summary(summary, total_iterations)\n",
    "        \n",
    "        #print status each 100 iterations\n",
    "        if i % 100 == 0:\n",
    "            acc = session.run(accuracy, feed_dict=feed_dict_train)\n",
    "           \n",
    "            msg = \"Optimization Iteration: {0:>6}, Training Accuracy: {1:>6.1%}\"\n",
    "            \n",
    "            print(msg.format(i + 1, acc))\n",
    "        \n",
    "    #Update the total iteration\n",
    "    total_iterations += num_iterations\n",
    "    \n",
    "    #total time calculation\n",
    "    end_time = time.time()\n",
    "       \n",
    "    time_dif = end_time - start_time\n",
    "    print(\"Time usage: \"+ str(timedelta(seconds=int(round(time_dif)))))\n",
    "    \n",
    "    "
   ]
  },
  {
   "cell_type": "markdown",
   "metadata": {},
   "source": [
    "## Function to plot example errors"
   ]
  },
  {
   "cell_type": "code",
   "execution_count": 55,
   "metadata": {
    "collapsed": false
   },
   "outputs": [],
   "source": [
    "def plot_example_errors(cls_pred, correct):\n",
    "    #cls _red is an array of the predicted\n",
    "    #class number for all images in the test-set\n",
    "    \n",
    "    #correct is a boolean array whether the predicted\n",
    "    #class is equal to the true clas for each image \n",
    "    #in the test-set\n",
    "    \n",
    "    incorrect = (correct == False)\n",
    "    \n",
    "    #Get incorrectly classified imags\n",
    "    images = data.test.images[incorrect]\n",
    "    \n",
    "    #Get the predicted classes for those images\n",
    "    cls_pred = cls_pred[incorrect]\n",
    "    \n",
    "    #Get the true class for the incorrectly classified img\n",
    "    cls_true = data.test.cls[incorrect]\n",
    "    \n",
    "    #Plot first 9 images\n",
    "    plot_images(images=images[0:9],\n",
    "               cls_true=cls_true[0:9],\n",
    "               cls_pred=cls_pred[0:9])\n",
    "    \n",
    "    \n",
    "    \n",
    "    \n",
    "    \n",
    "    \n",
    "    "
   ]
  },
  {
   "cell_type": "markdown",
   "metadata": {},
   "source": [
    "## Function to plot confusion matrix"
   ]
  },
  {
   "cell_type": "code",
   "execution_count": 56,
   "metadata": {
    "collapsed": true
   },
   "outputs": [],
   "source": [
    "def plot_confusion_matrix(cls_pred):\n",
    "    cls_true = data.test.cls\n",
    "    \n",
    "    cm = confusion_matrix(y_true=cls_true,\n",
    "                         y_pred=cls_pred)\n",
    "    #print as text\n",
    "    print(cm)\n",
    "    \n",
    "    #plot as image\n",
    "    plt.matshow(cm)\n",
    "    \n",
    "    plt.colorbar()\n",
    "    tick_marks = np.arange(num_classes)\n",
    "    plt.xticks(tick_marks, range(num_classes))\n",
    "    plt.yticks(tick_marks, range(num_classes))\n",
    "    plt.xlabel('predicted')\n",
    "    plt.ylabel('true')\n",
    "    \n",
    "    #ensure it is plotted in one Notebook cell\n",
    "    plt.show()\n",
    "    \n",
    "\n",
    "    "
   ]
  },
  {
   "cell_type": "markdown",
   "metadata": {},
   "source": [
    "## Function to show performance"
   ]
  },
  {
   "cell_type": "code",
   "execution_count": 57,
   "metadata": {
    "collapsed": true
   },
   "outputs": [],
   "source": [
    "test_batch_size = 256\n",
    "\n",
    "def print_test_accuracy(show_example_errors = False, \n",
    "                       show_confusion_matrix = False):\n",
    "    num_test = len(data.test.images)\n",
    "    \n",
    "    #Array for the predicted class, calculated in batches and filled into this array\n",
    "    cls_pred = np.zeros(shape=num_test, dtype=np.int)\n",
    "    \n",
    "    i = 0 \n",
    "    \n",
    "    while i < num_test:\n",
    "        #The ending index for next batch is denoted by j\n",
    "        j = min(i + test_batch_size, num_test)\n",
    "        \n",
    "        images = data.test.images[i:j, :]\n",
    "        \n",
    "        labels = data.test.labels[i:j, :]\n",
    "        \n",
    "        feed_dict = {x:images, \n",
    "                    y_true: labels}\n",
    "        \n",
    "        cls_pred[i:j] = session.run(y_pred_cls, feed_dict=feed_dict)\n",
    "        \n",
    "        i = j\n",
    "    \n",
    "    #true class numbers of the test set \n",
    "    cls_true = data.test.cls\n",
    "    \n",
    "    #Boolean array indicating correct/incorrect image classification\n",
    "    correct = (cls_true == cls_pred)\n",
    "    \n",
    "    #Total number of correct images\n",
    "    correct_sum = correct.sum()\n",
    "    \n",
    "    #accuracy is number of correct images over total images in test set\n",
    "    acc = float(correct_sum) / num_test\n",
    "    \n",
    "    msg = \"Accuracy on Test-Set: {0:.1%} ({1} /{2})\"\n",
    "    print(msg.format(acc, correct_sum, num_test))\n",
    "    \n",
    "    if show_example_errors:\n",
    "        print(\"Example errors:\")\n",
    "        plot_example_errors(cls_pred=cls_pred, correct=correct)\n",
    "        \n",
    "    if show_confusion_matrix:\n",
    "        print(\"Confusion Matrix:\")\n",
    "        plot_confusion_matrix(cls_pred=cls_pred)\n",
    "        "
   ]
  },
  {
   "cell_type": "code",
   "execution_count": 58,
   "metadata": {
    "collapsed": false
   },
   "outputs": [
    {
     "name": "stdout",
     "output_type": "stream",
     "text": [
      "Accuracy on Test-Set: 10.0% (995 /10000)\n"
     ]
    }
   ],
   "source": [
    "print_test_accuracy()"
   ]
  },
  {
   "cell_type": "code",
   "execution_count": 59,
   "metadata": {
    "collapsed": false
   },
   "outputs": [
    {
     "name": "stdout",
     "output_type": "stream",
     "text": [
      "Optimization Iteration:      1, Training Accuracy:  15.6%\n",
      "Time usage: 0:00:01\n"
     ]
    }
   ],
   "source": [
    "optimize(num_iterations=1)"
   ]
  },
  {
   "cell_type": "code",
   "execution_count": 60,
   "metadata": {
    "collapsed": false
   },
   "outputs": [
    {
     "name": "stdout",
     "output_type": "stream",
     "text": [
      "Accuracy on Test-Set: 10.4% (1036 /10000)\n"
     ]
    }
   ],
   "source": [
    "print_test_accuracy()"
   ]
  },
  {
   "cell_type": "code",
   "execution_count": 61,
   "metadata": {
    "collapsed": false
   },
   "outputs": [
    {
     "name": "stdout",
     "output_type": "stream",
     "text": [
      "Time usage: 0:00:00\n"
     ]
    }
   ],
   "source": [
    "optimize(num_iterations=2)"
   ]
  },
  {
   "cell_type": "code",
   "execution_count": 62,
   "metadata": {
    "collapsed": false
   },
   "outputs": [
    {
     "name": "stdout",
     "output_type": "stream",
     "text": [
      "Accuracy on Test-Set: 10.7% (1069 /10000)\n"
     ]
    }
   ],
   "source": [
    "print_test_accuracy()\n"
   ]
  },
  {
   "cell_type": "code",
   "execution_count": 63,
   "metadata": {
    "collapsed": false
   },
   "outputs": [
    {
     "name": "stdout",
     "output_type": "stream",
     "text": [
      "Optimization Iteration:    101, Training Accuracy:  68.8%\n",
      "Optimization Iteration:    201, Training Accuracy:  92.2%\n",
      "Optimization Iteration:    301, Training Accuracy:  89.1%\n",
      "Optimization Iteration:    401, Training Accuracy:  96.9%\n",
      "Optimization Iteration:    501, Training Accuracy:  87.5%\n",
      "Optimization Iteration:    601, Training Accuracy:  92.2%\n",
      "Optimization Iteration:    701, Training Accuracy:  90.6%\n",
      "Optimization Iteration:    801, Training Accuracy:  98.4%\n",
      "Optimization Iteration:    901, Training Accuracy:  92.2%\n",
      "Time usage: 0:01:50\n"
     ]
    }
   ],
   "source": [
    "optimize(num_iterations=900)"
   ]
  },
  {
   "cell_type": "markdown",
   "metadata": {
    "collapsed": true
   },
   "source": [
    "## 10,000 optimizations\n"
   ]
  },
  {
   "cell_type": "code",
   "execution_count": 64,
   "metadata": {
    "collapsed": false
   },
   "outputs": [
    {
     "name": "stdout",
     "output_type": "stream",
     "text": [
      "Optimization Iteration:   1001, Training Accuracy:  93.8%\n",
      "Optimization Iteration:   1101, Training Accuracy:  92.2%\n",
      "Optimization Iteration:   1201, Training Accuracy:  90.6%\n",
      "Optimization Iteration:   1301, Training Accuracy:  98.4%\n",
      "Optimization Iteration:   1401, Training Accuracy:  95.3%\n",
      "Optimization Iteration:   1501, Training Accuracy:  98.4%\n",
      "Optimization Iteration:   1601, Training Accuracy:  96.9%\n",
      "Optimization Iteration:   1701, Training Accuracy:  95.3%\n",
      "Optimization Iteration:   1801, Training Accuracy:  93.8%\n",
      "Optimization Iteration:   1901, Training Accuracy:  96.9%\n",
      "Time usage: 0:02:09\n"
     ]
    }
   ],
   "source": [
    "optimize(num_iterations = 1000) "
   ]
  },
  {
   "cell_type": "code",
   "execution_count": 65,
   "metadata": {
    "collapsed": false
   },
   "outputs": [
    {
     "name": "stdout",
     "output_type": "stream",
     "text": [
      "Accuracy on Test-Set: 96.2% (9623 /10000)\n",
      "Example errors:\n"
     ]
    },
    {
     "data": {
      "image/png": "[encoded data removed]",
      "text/plain": [
       "<matplotlib.figure.Figure at 0x1239f0080>"
      ]
     },
     "metadata": {},
     "output_type": "display_data"
    },
    {
     "name": "stdout",
     "output_type": "stream",
     "text": [
      "Confusion Matrix:\n",
      "[[ 957    0    5    1    0    3    7    3    4    0]\n",
      " [   0 1116    4    1    1    0    3    0   10    0]\n",
      " [   3    1 1003    4    3    0    0    7   10    1]\n",
      " [   0    0   14  964    0    9    0   10   12    1]\n",
      " [   0    1    6    2  944    0    6    2    3   18]\n",
      " [   2    1    2   10    1  862    6    1    5    2]\n",
      " [   7    3    1    1    5    6  933    0    2    0]\n",
      " [   0    4   27    2    1    0    0  975    0   19]\n",
      " [   4    0    8   12    4    9    4    7  920    6]\n",
      " [   4    7    5    7   14    4    0    8   11  949]]\n"
     ]
    },
    {
     "data": {
      "image/png": "[encoded data removed]",
      "text/plain": [
       "<matplotlib.figure.Figure at 0x11c957dd8>"
      ]
     },
     "metadata": {},
     "output_type": "display_data"
    }
   ],
   "source": [
    "print_test_accuracy(show_example_errors = True, show_confusion_matrix = True)"
   ]
  },
  {
   "cell_type": "markdown",
   "metadata": {},
   "source": [
    "# Visualization of Weights and Layers\n"
   ]
  },
  {
   "cell_type": "code",
   "execution_count": 66,
   "metadata": {
    "collapsed": false
   },
   "outputs": [],
   "source": [
    "def plot_conv_weights(weights, input_channel = 0):\n",
    "    #Assume weights are TensorFlow ops for 4-dim variables, \n",
    "    #e.g. weights_conv1 or weights_conv2\n",
    "    \n",
    "    #Retrieve the values of the weight variables from TensorFlow. \n",
    "    #a feed-dict is not necessary b/c nothing is calculated\n",
    "    w = session.run(weights)\n",
    "    \n",
    "    #Get extreme values. Used to correct color intensity \n",
    "    #across images so can be compared with each other\n",
    "    \n",
    "    w_min = np.min(w)\n",
    "    w_max = np.max(w)\n",
    "    \n",
    "    #Number of filters used in the conv. layer\n",
    "    num_filters = w.shape[3]\n",
    "    \n",
    "    #Number of grids to plot.\n",
    "    #Rounded up sqrt of the number of filters\n",
    "    num_grids = math.ceil(math.sqrt(num_filters))\n",
    "    \n",
    "    #Create a figure with a grid of sub-plots\n",
    "    fig, axes = plt.subplots(num_grids, num_grids)\n",
    "    \n",
    "    #Plot all the filter-weights\n",
    "    for i, ax in enumerate(axes.flat):\n",
    "        #only plot the valid filter weights\n",
    "        if i < num_filters:\n",
    "            #Get the weights for the ith filter of the input channel\n",
    "            \n",
    "            #see new_conv_layer() for details on the format\n",
    "            #of this 4-dim tensor\n",
    "            img = w[:, :, input_channel, i]\n",
    "            \n",
    "            #Plot image\n",
    "            ax.imshow(img, vmin = w_min, vmax = w_max, \n",
    "                     interpolation = 'nearest', cmap = 'seismic')\n",
    "            \n",
    "            #Remove ticks from the plot\n",
    "            ax.set_xticks([])\n",
    "            ax.set_yticks([])\n",
    "            \n",
    "    #ensure the plot is shown correctly in only one Notebook Cell\n",
    "    plt.show()"
   ]
  },
  {
   "cell_type": "markdown",
   "metadata": {},
   "source": [
    "## Function for plotting convolutional layer output"
   ]
  },
  {
   "cell_type": "code",
   "execution_count": 67,
   "metadata": {
    "collapsed": true
   },
   "outputs": [],
   "source": [
    "def plot_conv_layer(layer, image):\n",
    "    #Assume layer is a TensorFlow op that outputs\n",
    "    #a 4-dim tensor which is the output of a convo layer,\n",
    "    #eg layer_con1 or layer_conv2\n",
    "    \n",
    "\n",
    "    #Create a feed dict with just one image\n",
    "    #No need to feed y_true b/c not used here\n",
    "    feed_dict = {x: [image]}\n",
    "    \n",
    "    #Calculate and retrieve the output values of the layer \n",
    "    #when inputting that image\n",
    "    values = session.run(layer, feed_dict=feed_dict)\n",
    "    \n",
    "    num_filters = values.shape[3]\n",
    "    \n",
    "    #number of grids to plot, rounded up sqrt\n",
    "    num_grids = math.ceil(math.sqrt(num_filters))\n",
    "    \n",
    "    #Create figure with grid of subplots\n",
    "    fig, axes = plt.subplots(num_grids, num_grids)\n",
    "    \n",
    "    #figure with a grid of subplots\n",
    "    for i, ax in enumerate(axes.flat):\n",
    "        #only plot images for valid filters\n",
    "        if i < num_filters:\n",
    "            #get output image of using the ith filter\n",
    "            #see new_conv_layer() for details on the format of this\n",
    "            #4 dim tensor\n",
    "            img = values[0, :, :, i]\n",
    "            \n",
    "            #plot image\n",
    "            ax.imshow(img, interpolation = 'nearest', cmap = 'binary')\n",
    "            \n",
    "            #remove ticks from the plot.\n",
    "            ax.set_xticks([])\n",
    "            ax.set_yticks([])\n",
    "            \n",
    "    #Plot in one cell only\n",
    "    plt.show()"
   ]
  },
  {
   "cell_type": "markdown",
   "metadata": {},
   "source": [
    "## Function to plot an input image"
   ]
  },
  {
   "cell_type": "code",
   "execution_count": 68,
   "metadata": {
    "collapsed": true
   },
   "outputs": [],
   "source": [
    "def plot_image(image):\n",
    "    plt.imshow(image.reshape(img_shape),\n",
    "              interpolation = 'nearest', \n",
    "              cmap = 'binary')\n",
    "    \n",
    "    plt.show()\n"
   ]
  },
  {
   "cell_type": "code",
   "execution_count": 69,
   "metadata": {
    "collapsed": false
   },
   "outputs": [
    {
     "data": {
      "image/png": "[encoded data removed]",
      "text/plain": [
       "<matplotlib.figure.Figure at 0x12408f4e0>"
      ]
     },
     "metadata": {},
     "output_type": "display_data"
    }
   ],
   "source": [
    "image1 = data.test.images[4]\n",
    "\n",
    "plot_image(image1)"
   ]
  },
  {
   "cell_type": "code",
   "execution_count": 70,
   "metadata": {
    "collapsed": false
   },
   "outputs": [
    {
     "data": {
      "image/png": "[encoded data removed]",
      "text/plain": [
       "<matplotlib.figure.Figure at 0x11bff0198>"
      ]
     },
     "metadata": {},
     "output_type": "display_data"
    }
   ],
   "source": [
    "image2 = data.test.images[12]\n",
    "\n",
    "plot_image(image2)"
   ]
  },
  {
   "cell_type": "code",
   "execution_count": null,
   "metadata": {
    "collapsed": true
   },
   "outputs": [],
   "source": []
  },
  {
   "cell_type": "markdown",
   "metadata": {},
   "source": [
    "## Plot Convolutional Layer 1 "
   ]
  },
  {
   "cell_type": "code",
   "execution_count": 71,
   "metadata": {
    "collapsed": false
   },
   "outputs": [
    {
     "data": {
      "image/png": "[encoded data removed]",
      "text/plain": [
       "<matplotlib.figure.Figure at 0x11c944ef0>"
      ]
     },
     "metadata": {},
     "output_type": "display_data"
    }
   ],
   "source": [
    "#positive weights are red and negative are blue\n",
    "plot_conv_weights(weights = weights_conv1)"
   ]
  },
  {
   "cell_type": "code",
   "execution_count": 72,
   "metadata": {
    "collapsed": false
   },
   "outputs": [
    {
     "data": {
      "image/png": "[encoded data removed]",
      "text/plain": [
       "<matplotlib.figure.Figure at 0x11bf1b940>"
      ]
     },
     "metadata": {},
     "output_type": "display_data"
    }
   ],
   "source": [
    "plot_conv_layer(layer=layer_conv1, image = image1)"
   ]
  },
  {
   "cell_type": "code",
   "execution_count": 73,
   "metadata": {
    "collapsed": false
   },
   "outputs": [
    {
     "data": {
      "image/png": "[encoded data removed]",
      "text/plain": [
       "<matplotlib.figure.Figure at 0x11bfe2240>"
      ]
     },
     "metadata": {},
     "output_type": "display_data"
    }
   ],
   "source": [
    "plot_conv_layer(layer=layer_conv1, image = image2)"
   ]
  },
  {
   "cell_type": "markdown",
   "metadata": {},
   "source": [
    "## Plotting Convolutional Layer 2"
   ]
  },
  {
   "cell_type": "code",
   "execution_count": 74,
   "metadata": {
    "collapsed": false
   },
   "outputs": [
    {
     "data": {
      "image/png": "[encoded data removed]",
      "text/plain": [
       "<matplotlib.figure.Figure at 0x11bf4cef0>"
      ]
     },
     "metadata": {},
     "output_type": "display_data"
    }
   ],
   "source": [
    "plot_conv_weights(weights = weights_conv2, input_channel = 0)"
   ]
  },
  {
   "cell_type": "code",
   "execution_count": 75,
   "metadata": {
    "collapsed": false
   },
   "outputs": [
    {
     "data": {
      "image/png": "[encoded data removed]",
      "text/plain": [
       "<matplotlib.figure.Figure at 0x119eaaef0>"
      ]
     },
     "metadata": {},
     "output_type": "display_data"
    }
   ],
   "source": [
    "plot_conv_weights(weights_conv2, input_channel = 1)"
   ]
  },
  {
   "cell_type": "code",
   "execution_count": 76,
   "metadata": {
    "collapsed": false
   },
   "outputs": [
    {
     "data": {
      "image/png": "[encoded data removed]",
      "text/plain": [
       "<matplotlib.figure.Figure at 0x119eaa9e8>"
      ]
     },
     "metadata": {},
     "output_type": "display_data"
    }
   ],
   "source": [
    "plot_conv_layer(layer=layer_conv2, image = image1)"
   ]
  },
  {
   "cell_type": "code",
   "execution_count": 77,
   "metadata": {
    "collapsed": false
   },
   "outputs": [
    {
     "data": {
      "image/png": "[encoded data removed]",
      "text/plain": [
       "<matplotlib.figure.Figure at 0x11b0688d0>"
      ]
     },
     "metadata": {},
     "output_type": "display_data"
    }
   ],
   "source": [
    "plot_conv_layer(layer=layer_conv2, image = image2)"
   ]
  },
  {
   "cell_type": "code",
   "execution_count": 79,
   "metadata": {
    "collapsed": true
   },
   "outputs": [],
   "source": [
    "#Optional Closing of session,\n",
    "#remove # to fix the notebook.\n",
    "session.close()"
   ]
  },
  {
   "cell_type": "code",
   "execution_count": null,
   "metadata": {
    "collapsed": true
   },
   "outputs": [],
   "source": []
  }
 ],
 "metadata": {
  "kernelspec": {
   "display_name": "Python 3",
   "language": "python",
   "name": "python3"
  },
  "language_info": {
   "codemirror_mode": {
    "name": "ipython",
    "version": 3
   },
   "file_extension": ".py",
   "mimetype": "text/x-python",
   "name": "python",
   "nbconvert_exporter": "python",
   "pygments_lexer": "ipython3",
   "version": "3.5.2"
  }
 },
 "nbformat": 4,
 "nbformat_minor": 2
}
